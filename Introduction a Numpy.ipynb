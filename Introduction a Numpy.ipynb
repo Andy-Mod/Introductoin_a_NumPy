{
 "cells": [
  {
   "cell_type": "markdown",
   "id": "ab808ae7",
   "metadata": {},
   "source": [
    "****\n",
    "\n",
    "# \n",
    "\n",
    "### <center> <b> <span style=\"color:green;\"> .</span> </b></center>\n",
    "\n",
    "\n",
    "****\n",
    "\n",
    "# <center> <b> <span style=\"color:blue;\">Introduction à Numpy </span> </b></center>\n",
    "<center> <b> <span style=\"color:orange;\"> Par Andy DEGBEGNI </span> </b></center>\n",
    "\n",
    "\n",
    "<!--NAVIGATION-->\n",
    "< [Sommaire](Index.ipynb) | [1. Généralités] >\n",
    "\n",
    "\n",
    "\n",
    "****\n",
    "\n",
    "### <left> <b> <span style=\"color:brown;\"> </span> </b></left>\n",
    "\n",
    "Numpy (Numerical Python), est une bibliothèque composée d'objets de tableaux multidimensionnels et d'une collection de routines permettant de traiter ces tableaux. NumPy permet d'effectuer des opérations mathématiques et logiques sur des tableaux. Il est open source.\n",
    "****\n",
    "\n"
   ]
  },
  {
   "cell_type": "markdown",
   "id": "9da20035",
   "metadata": {},
   "source": [
    "### Les opérations avec NumPy"
   ]
  },
  {
   "cell_type": "markdown",
   "id": "0aded1b2",
   "metadata": {},
   "source": [
    "À l'aide de NumPy, un développeur peut effectuer les opérations suivantes :\n",
    "\n",
    "    1. Opérations mathématiques et logiques sur des tableaux.\n",
    "\n",
    "    2. Transformations de Fourier et routines de manipulation de formes.\n",
    "\n",
    "    3. Opérations liées à l'algèbre linéaire. NumPy possède des fonctions intégrées pour l'algèbre linéaire et la génération de nombres aléatoires"
   ]
  },
  {
   "cell_type": "markdown",
   "id": "70ec98dd",
   "metadata": {},
   "source": [
    "### NumPy - Un remplacement pour MatLab"
   ]
  },
  {
   "cell_type": "markdown",
   "id": "7808ebfd",
   "metadata": {},
   "source": [
    "NumPy est souvent utilisé avec des paquets comme SciPy (Python scientifique) et Mat-plotlib (bibliothèque de traçage). Cette combinaison est largement utilisée pour remplacer MatLab, une plate-forme populaire pour l'informatique technique. Cependant, l'alternative Python à MatLab est désormais considérée comme un langage de programmation plus moderne et plus complet."
   ]
  },
  {
   "cell_type": "markdown",
   "id": "55e3e218",
   "metadata": {},
   "source": [
    "### Numpy - Environement et Installation"
   ]
  },
  {
   "cell_type": "markdown",
   "id": "a4367251",
   "metadata": {},
   "source": [
    "La distribution standard de Python ne contient pas le module NumPy. Une alternative légère consiste à installer NumPy à l'aide du populaire installateur de paquets Python, pip.\n",
    "La meilleure façon d'activer NumPy est d'utiliser un paquetage binaire installable spécifique à votre système d'exploitation. "
   ]
  },
  {
   "cell_type": "markdown",
   "id": "14ee7feb",
   "metadata": {},
   "source": [
    "##### Windows\n",
    "Pour les utilisateurs de Windows, les alternatives suivantes s'offrent à vous : <br/><br/>\n",
    "    - Anaconda ( https://www.continuum.io) est une distribution gratuite de Python pour la pile SciPy. Elle est également disponible pour Linux et Mac.<br/>\n",
    "    - Canopy (https://www.enthought.com/products/canopy/) est disponible en tant que distribution libre et commerciale avec la pile SciPy complète pour Windows, Linux et Mac.<br/>\n",
    "    - Python (x,y) : Il s'agit d'une distribution gratuite de Python avec la pile SciPy et l'IDE Spyder pour Windows OS. (Téléchargeable sur https://www.python-xy.github.io/)"
   ]
  },
  {
   "cell_type": "markdown",
   "id": "c685913b",
   "metadata": {},
   "source": [
    "##### Linux \n",
    "Pour les utilisateurs linux : <br/><br/>\n",
    "\n",
    "> **Pour Ubuntu:** <br/>\n",
    "sudo apt-get install python-numpy <br/>\n",
    "python-scipy python-matplotlibipythonipythonnotebook python-pandas <br/>\n",
    "python-sympy python-nose <br/>"
   ]
  },
  {
   "cell_type": "markdown",
   "id": "bb2dea62",
   "metadata": {},
   "source": [
    "### Tester si le module a été bien installer "
   ]
  },
  {
   "cell_type": "markdown",
   "id": "0c262f40",
   "metadata": {},
   "source": [
    "Pour vérifier si le module NumPy est correctement installé, essayez de l'importer à partir de l'invite Python en faisant :"
   ]
  },
  {
   "cell_type": "code",
   "execution_count": 195,
   "id": "b654e4fd",
   "metadata": {},
   "outputs": [
    {
     "ename": "SyntaxError",
     "evalue": "invalid syntax (<ipython-input-195-fb770dd4ba45>, line 2)",
     "output_type": "error",
     "traceback": [
      "\u001b[0;36m  File \u001b[0;32m\"<ipython-input-195-fb770dd4ba45>\"\u001b[0;36m, line \u001b[0;32m2\u001b[0m\n\u001b[0;31m    ou encore :\u001b[0m\n\u001b[0m       ^\u001b[0m\n\u001b[0;31mSyntaxError\u001b[0m\u001b[0;31m:\u001b[0m invalid syntax\n"
     ]
    }
   ],
   "source": [
    "import numpy \n",
    "ou encore : \n",
    "import numpy as np"
   ]
  },
  {
   "cell_type": "markdown",
   "id": "5ce8b000",
   "metadata": {},
   "source": [
    "S'il n'est pas installé, le message d'erreur suivant s'affiche."
   ]
  },
  {
   "cell_type": "markdown",
   "id": "128bea39",
   "metadata": {},
   "source": [
    "Traceback (most recent call last): <br/>\n",
    "   File \"<pyshell#0>\", line 1, in <module> <br/> \n",
    "      import numpy <br/>\n",
    "ImportError: No module named 'numpy' <br/>"
   ]
  },
  {
   "cell_type": "markdown",
   "id": "187708f0",
   "metadata": {},
   "source": [
    "Sinon, aucun message ne sera affiché."
   ]
  },
  {
   "cell_type": "markdown",
   "id": "b18f4ef1",
   "metadata": {},
   "source": [
    "### NumPy - Ndarray Object"
   ]
  },
  {
   "cell_type": "markdown",
   "id": "3c1ae992",
   "metadata": {},
   "source": [
    "L'objet le plus important défini dans NumPy est un type de tableau à N dimensions appelé ndarray. Il décrit la collection d'éléments du même type. Les éléments de la collection sont accessibles à l'aide d'un index basé sur zéro.\n",
    "\n",
    "Chaque élément d'un ndarray occupe la même taille de bloc dans la mémoire. Chaque élément d'un ndarray est un objet de type données (appelé dtype).\n",
    "\n",
    "Tout élément extrait de l'objet ndarray (par découpage) est représenté par un objet Python de l'un des types scalaires du tableau.\n",
    "\n",
    "Une instance de la classe ndarray peut être construite de différentes façon. Le tableau de base ndarray est créé à l'aide d'une fonction de tableau dans NumPy, comme suit :"
   ]
  },
  {
   "cell_type": "code",
   "execution_count": 196,
   "id": "9b42b757",
   "metadata": {},
   "outputs": [
    {
     "data": {
      "text/plain": [
       "<function numpy.array>"
      ]
     },
     "execution_count": 196,
     "metadata": {},
     "output_type": "execute_result"
    }
   ],
   "source": [
    "numpy.array "
   ]
  },
  {
   "cell_type": "markdown",
   "id": "1f4a7c7f",
   "metadata": {},
   "source": [
    "Elle crée un ndarray à partir de n'importe quel objet exposant l'interface array, ou à partir de n'importe quelle méthode qui retourne un array."
   ]
  },
  {
   "cell_type": "code",
   "execution_count": 197,
   "id": "72d1960c",
   "metadata": {},
   "outputs": [
    {
     "data": {
      "text/plain": [
       "array(<class 'object'>, dtype=object)"
      ]
     },
     "execution_count": 197,
     "metadata": {},
     "output_type": "execute_result"
    }
   ],
   "source": [
    "numpy.array(object, dtype = None, copy = True, order = None, subok = False, ndmin = 0)"
   ]
  },
  {
   "cell_type": "markdown",
   "id": "78c8b131",
   "metadata": {},
   "source": [
    "Le constructeur ci-dessus prend les paramètres suivants :"
   ]
  },
  {
   "cell_type": "markdown",
   "id": "56dec67d",
   "metadata": {},
   "source": [
    "<table class=\"table table-bordered\">\n",
    "<tbody><tr>\n",
    "<th style=\"text-align:center;\">Sr.No.</th>\n",
    "<th style=\"text-align:center;\">Parametre &amp; Description</th>\n",
    "</tr>\n",
    "<tr>\n",
    "<td class=\"ts\">1</td>\n",
    "<td><p><b>object</b></p>\n",
    "<p>Tout objet exposant la méthode de l'interface array, renvoie un array, ou toute séquence (imbriquée).</p>\n",
    "</td>\n",
    "</tr>\n",
    "<tr>\n",
    "<td class=\"ts\">2</td>\n",
    "<td><p><b>dtype</b></p>\n",
    "<p>Type de données souhaité pour le tableau, facultatif</p>\n",
    "</td>\n",
    "</tr>\n",
    "<tr>\n",
    "<td class=\"ts\">3</td>\n",
    "<td><p><b>copy</b></p>\n",
    "<p>Facultatif. Par défaut (true), l'objet est copié.</p>\n",
    "</td>\n",
    "</tr>\n",
    "<tr>\n",
    "<td class=\"ts\">4</td>\n",
    "<td><p><b>order</b></p>\n",
    "<p>C (majeure de la ligne) ou F (majeure de la colonne) ou A (quelconque) (par défaut)</p>\n",
    "</td>\n",
    "</tr>\n",
    "<tr>\n",
    "<td class=\"ts\">5</td>\n",
    "<td><p><b>subok</b></p>\n",
    "<p>Par défaut, le tableau retourné est forcé d'être un tableau de classe de base.</p>\n",
    "</td>\n",
    "</tr>\n",
    "<tr>\n",
    "<td class=\"ts\">6</td>\n",
    "<td><p><b>ndmin</b></p>\n",
    "<p>Spécifie les dimensions minimales du tableau résultant</p>\n",
    "</td>\n",
    "</tr>\n",
    "</tbody></table>"
   ]
  },
  {
   "cell_type": "markdown",
   "id": "b8ebfdf3",
   "metadata": {},
   "source": [
    "Jetez un coup d'œil aux exemples suivants pour mieux comprendre."
   ]
  },
  {
   "cell_type": "code",
   "execution_count": 198,
   "id": "b4afd480",
   "metadata": {},
   "outputs": [
    {
     "name": "stdout",
     "output_type": "stream",
     "text": [
      "[1 2 3]\n"
     ]
    }
   ],
   "source": [
    "import numpy as np \n",
    "a = np.array([1,2,3]) \n",
    "print(a)"
   ]
  },
  {
   "cell_type": "code",
   "execution_count": 199,
   "id": "d26ec96a",
   "metadata": {},
   "outputs": [
    {
     "name": "stdout",
     "output_type": "stream",
     "text": [
      "[[1 2]\n",
      " [3 4]]\n"
     ]
    }
   ],
   "source": [
    "# more than one dimensions \n",
    "import numpy as np \n",
    "a = np.array([[1, 2], [3, 4]]) \n",
    "print(a)"
   ]
  },
  {
   "cell_type": "code",
   "execution_count": 200,
   "id": "077c1983",
   "metadata": {},
   "outputs": [
    {
     "name": "stdout",
     "output_type": "stream",
     "text": [
      "[[1 2 3 4 5]]\n"
     ]
    }
   ],
   "source": [
    "# minimum dimensions \n",
    "import numpy as np \n",
    "a = np.array([1, 2, 3,4,5], ndmin = 2) \n",
    "print(a)"
   ]
  },
  {
   "cell_type": "code",
   "execution_count": 201,
   "id": "46871a00",
   "metadata": {},
   "outputs": [
    {
     "name": "stdout",
     "output_type": "stream",
     "text": [
      "[1.+0.j 3.+0.j 2.+0.j 3.+0.j]\n"
     ]
    }
   ],
   "source": [
    "# dtype parameter \n",
    "import numpy as np \n",
    "a = np.array([1,3, 2, 3],complex) \n",
    "print (a)"
   ]
  },
  {
   "cell_type": "markdown",
   "id": "b4503411",
   "metadata": {},
   "source": [
    "L'objet ndarray consiste en un segment unidimensionnel contigu de la mémoire de l'ordinateur, associé à un schéma d'indexation qui fait correspondre chaque élément à un emplacement dans le bloc de mémoire. Le bloc de mémoire contient les éléments dans un ordre de rangée majeure (style C) ou un ordre de colonne majeure (style FORTRAN ou MatLab)."
   ]
  },
  {
   "cell_type": "markdown",
   "id": "d9528e2a",
   "metadata": {},
   "source": [
    "### NumPy - Data Types"
   ]
  },
  {
   "cell_type": "markdown",
   "id": "49ce69a4",
   "metadata": {},
   "source": [
    "NumPy prend en charge une variété beaucoup plus grande de types numériques que Python. Le tableau suivant présente les différents types de données scalaires définis dans NumPy."
   ]
  },
  {
   "cell_type": "markdown",
   "id": "7e4cb19c",
   "metadata": {},
   "source": [
    "<table class=\"table table-bordered\">\n",
    "<tbody><tr>\n",
    "<th style=\"text-align:center;\">Sr.No.</th>\n",
    "<th style=\"text-align:center;\">Data Types &amp; Description</th>\n",
    "</tr>\n",
    "<tr>\n",
    "<td class=\"ts\">1</td>\n",
    "<td><p><b>bool_</b></p>\n",
    "<p>Boolean (True or False) stored as a byte</p>\n",
    "</td>\n",
    "</tr>\n",
    "<tr>\n",
    "<td class=\"ts\">2</td>\n",
    "<td><p><b>int_</b></p>\n",
    "<p>Default integer type (same as C long; normally either int64 or int32)</p>\n",
    "</td>\n",
    "</tr>\n",
    "<tr>\n",
    "<td class=\"ts\">3</td>\n",
    "<td><p><b>intc</b></p>\n",
    "<p>Identical to C int (normally int32 or int64)</p>\n",
    "</td>\n",
    "</tr>\n",
    "<tr>\n",
    "<td class=\"ts\">4</td>\n",
    "<td><p><b>intp</b></p>\n",
    "<p>Integer used for indexing (same as C ssize_t; normally either int32 or int64)</p>\n",
    "</td>\n",
    "</tr>\n",
    "<tr>\n",
    "<td class=\"ts\">5</td>\n",
    "<td><p><b>int8</b></p>\n",
    "<p>Byte (-128 to 127)</p>\n",
    "</td>\n",
    "</tr>\n",
    "<tr>\n",
    "<td class=\"ts\">6</td>\n",
    "<td><p><b>int16</b></p>\n",
    "<p>Integer (-32768 to 32767)</p>\n",
    "</td>\n",
    "</tr>\n",
    "<tr>\n",
    "<td class=\"ts\">7</td>\n",
    "<td><p><b>int32</b></p>\n",
    "<p>Integer (-2147483648 to 2147483647)</p>\n",
    "</td>\n",
    "</tr>\n",
    "<tr>\n",
    "<td class=\"ts\">8</td>\n",
    "<td><p><b>int64</b></p>\n",
    "<p>Integer (-9223372036854775808 to 9223372036854775807)</p>\n",
    "</td>\n",
    "</tr>\n",
    "<tr>\n",
    "<td class=\"ts\">9</td>\n",
    "<td><p><b>uint8</b></p>\n",
    "<p>Unsigned integer (0 to 255)</p>\n",
    "</td>\n",
    "</tr>\n",
    "<tr>\n",
    "<td class=\"ts\">10</td>\n",
    "<td><p><b>uint16</b></p>\n",
    "<p>Unsigned integer (0 to 65535)</p>\n",
    "</td>\n",
    "</tr>\n",
    "<tr>\n",
    "<td class=\"ts\">11</td>\n",
    "<td><p><b>uint32</b></p>\n",
    "<p>Unsigned integer (0 to 4294967295)</p>\n",
    "</td>\n",
    "</tr>\n",
    "<tr>\n",
    "<td class=\"ts\">12</td>\n",
    "<td><p><b>uint64</b></p>\n",
    "<p>Unsigned integer (0 to 18446744073709551615)</p>\n",
    "</td>\n",
    "</tr>\n",
    "<tr>\n",
    "<td class=\"ts\">13</td>\n",
    "<td><p><b>float_</b></p>\n",
    "<p>Shorthand for float64</p>\n",
    "</td>\n",
    "</tr>\n",
    "<tr>\n",
    "<td class=\"ts\">14</td>\n",
    "<td><p><b>float16</b></p>\n",
    "<p>Half precision float: sign bit, 5 bits exponent, 10 bits mantissa</p>\n",
    "</td>\n",
    "</tr>\n",
    "<tr>\n",
    "<td class=\"ts\">15</td>\n",
    "<td><p><b>float32</b></p>\n",
    "<p>Single precision float: sign bit, 8 bits exponent, 23 bits mantissa</p>\n",
    "</td>\n",
    "</tr>\n",
    "<tr>\n",
    "<td class=\"ts\">16</td>\n",
    "<td><p><b>float64</b></p>\n",
    "<p>Double precision float: sign bit, 11 bits exponent, 52 bits mantissa</p>\n",
    "</td>\n",
    "</tr>\n",
    "<tr>\n",
    "<td class=\"ts\">17</td>\n",
    "<td><p><b>complex_</b></p>\n",
    "<p>Shorthand for complex128</p>\n",
    "</td>\n",
    "</tr>\n",
    "<tr>\n",
    "<td class=\"ts\">18</td>\n",
    "<td><p><b>complex64</b></p>\n",
    "<p>Complex number, represented by two 32-bit floats (real and imaginary components)</p>\n",
    "</td>\n",
    "</tr>\n",
    "<tr>\n",
    "<td class=\"ts\">19</td>\n",
    "<td><p><b>complex128</b></p>\n",
    "<p>Complex number, represented by two 64-bit floats (real and imaginary components)</p>\n",
    "</td>\n",
    "</tr>\n",
    "</tbody></table>"
   ]
  },
  {
   "cell_type": "markdown",
   "id": "9c491308",
   "metadata": {},
   "source": [
    "Les types numériques de NumPy sont des instances d'objets dtype (data-type), chacun ayant des caractéristiques uniques. Les dtypes sont disponibles en tant que np.bool_, np.float32, etc."
   ]
  },
  {
   "cell_type": "markdown",
   "id": "48e5e24a",
   "metadata": {},
   "source": [
    "### Data Type Objects (dtype)"
   ]
  },
  {
   "cell_type": "markdown",
   "id": "922ae48c",
   "metadata": {},
   "source": [
    "Un objet dtype décrit l'interprétation d'un bloc fixe de mémoire correspondant à un tableau, en fonction des aspects suivants \n",
    "\n",
    "    - le type de données (entier, flottant ou objet Python)\n",
    "\n",
    "    - la taille des données\n",
    "\n",
    "    - l'ordre des octets (little-endian ou big-endian).\n",
    "\n",
    "    - Dans le cas d'un type structuré, les noms des champs, le type de données de chaque champ et la partie du bloc de mémoire occupée par chaque champ.\n",
    "\n",
    "    - Si le type de données est un sous-bloc, sa forme et son type de données.\n",
    "\n",
    "L'ordre des octets est déterminé en faisant précéder l'objet dtype de '<' ou '>'. '<' signifie que le codage est little-endian (le bit le moins significatif est stocké à la plus petite adresse). '>' signifie que le codage est big-endian (l'octet le plus significatif est stocké dans l'adresse la plus petite).\n",
    "\n",
    "Un objet dtype est construit à l'aide de la syntaxe suivante :\n"
   ]
  },
  {
   "cell_type": "code",
   "execution_count": 202,
   "id": "61c60cec",
   "metadata": {},
   "outputs": [
    {
     "ename": "NameError",
     "evalue": "name 'align' is not defined",
     "output_type": "error",
     "traceback": [
      "\u001b[0;31m---------------------------------------------------------------------------\u001b[0m",
      "\u001b[0;31mNameError\u001b[0m                                 Traceback (most recent call last)",
      "\u001b[0;32m<ipython-input-202-38f030073f22>\u001b[0m in \u001b[0;36m<module>\u001b[0;34m\u001b[0m\n\u001b[0;32m----> 1\u001b[0;31m \u001b[0mnumpy\u001b[0m\u001b[0;34m.\u001b[0m\u001b[0mdtype\u001b[0m\u001b[0;34m(\u001b[0m\u001b[0mobject\u001b[0m\u001b[0;34m,\u001b[0m \u001b[0malign\u001b[0m\u001b[0;34m,\u001b[0m \u001b[0mcopy\u001b[0m\u001b[0;34m)\u001b[0m\u001b[0;34m\u001b[0m\u001b[0;34m\u001b[0m\u001b[0m\n\u001b[0m",
      "\u001b[0;31mNameError\u001b[0m: name 'align' is not defined"
     ]
    }
   ],
   "source": [
    "numpy.dtype(object, align, copy)"
   ]
  },
  {
   "cell_type": "markdown",
   "id": "77b90d1f",
   "metadata": {},
   "source": [
    "Les paramètres sont :\n",
    "\n",
    "    Object − l'objet a convertir en dtype\n",
    "    Align − si vrai, ajoute du remplissage au champ pour le rendre similaire à la structure C\n",
    "    Copy − crée une nouvelle copie de l'objet dtype. Si false, le résultat est une référence à l'objet de type de données intégré.\n"
   ]
  },
  {
   "cell_type": "markdown",
   "id": "a0dbce95",
   "metadata": {},
   "source": [
    "Ci dessous quelques exemples : "
   ]
  },
  {
   "cell_type": "code",
   "execution_count": null,
   "id": "9a61225e",
   "metadata": {},
   "outputs": [],
   "source": [
    "# using array-scalar type \n",
    "import numpy as np \n",
    "dt = np.dtype(np.int32) \n",
    "print(dt)"
   ]
  },
  {
   "cell_type": "code",
   "execution_count": null,
   "id": "ad50ae17",
   "metadata": {},
   "outputs": [],
   "source": [
    "#int8, int16, int32, int64 can be replaced by equivalent string 'i1', 'i2','i4', etc. \n",
    "import numpy as np \n",
    "\n",
    "dt = np.dtype('i4')\n",
    "print(dt) "
   ]
  },
  {
   "cell_type": "code",
   "execution_count": null,
   "id": "cf059343",
   "metadata": {},
   "outputs": [],
   "source": [
    "# using endian notation \n",
    "import numpy as np \n",
    "dt = np.dtype('>i4') \n",
    "print(dt)"
   ]
  },
  {
   "cell_type": "markdown",
   "id": "19c1e6eb",
   "metadata": {},
   "source": [
    "Les exemples suivants montrent l'utilisation du type de données structuré. Ici, il s'agit de déclarer le nom du champ et le type de données scalaires correspondant."
   ]
  },
  {
   "cell_type": "code",
   "execution_count": null,
   "id": "d55425f7",
   "metadata": {},
   "outputs": [],
   "source": [
    "# first create structured data type \n",
    "import numpy as np \n",
    "dt = np.dtype([('age',np.int8)]) \n",
    "print(dt)"
   ]
  },
  {
   "cell_type": "code",
   "execution_count": null,
   "id": "41273472",
   "metadata": {},
   "outputs": [],
   "source": [
    "# now apply it to ndarray object \n",
    "import numpy as np \n",
    "\n",
    "dt = np.dtype([('age',np.int8)]) \n",
    "a = np.array([(10,),(20,),(30,)], dtype = dt) \n",
    "print(a)"
   ]
  },
  {
   "cell_type": "code",
   "execution_count": null,
   "id": "616380ee",
   "metadata": {},
   "outputs": [],
   "source": [
    "# file name can be used to access content of age column \n",
    "import numpy as np \n",
    "\n",
    "dt = np.dtype([('age',np.int8)]) \n",
    "a = np.array([(10,),(20,),(30,)], dtype = dt) \n",
    "print(a['age'])"
   ]
  },
  {
   "cell_type": "markdown",
   "id": "29a4ad08",
   "metadata": {},
   "source": [
    "Les exemples suivants définissent un type de données structuré appelé student avec un champ de type string 'name', un champ de type integer 'age' et un champ de type float 'marks'. Ce type de données est appliqué à l'objet ndarray."
   ]
  },
  {
   "cell_type": "code",
   "execution_count": null,
   "id": "dd7c35b6",
   "metadata": {},
   "outputs": [],
   "source": [
    "\n",
    "import numpy as np \n",
    "student = np.dtype([('name','S20'), ('age', 'i1'), ('marks', 'f4')]) \n",
    "print(student)"
   ]
  },
  {
   "cell_type": "code",
   "execution_count": null,
   "id": "3d716219",
   "metadata": {},
   "outputs": [],
   "source": [
    "import numpy as np \n",
    "\n",
    "student = np.dtype([('name','S20'), ('age', 'i1'), ('marks', 'f4')]) \n",
    "a = np.array([('abc', 21, 50),('xyz', 18, 75)], dtype = student) \n",
    "print(a)\n",
    "print(a['marks'])"
   ]
  },
  {
   "cell_type": "markdown",
   "id": "ccd494a0",
   "metadata": {},
   "source": [
    "Chaque dtype intégré possède un code de caractère qui l'identifie de manière unique.\n",
    "\n",
    "\n",
    "    'b' − boolean\n",
    "\n",
    "    'i' − (signed) integer\n",
    "\n",
    "    'u' − unsigned integer\n",
    "\n",
    "    'f' − floating-point\n",
    "\n",
    "    'c' − complex-floating point\n",
    "\n",
    "    'm' − timedelta\n",
    "\n",
    "    'M' − datetime\n",
    "\n",
    "    'O' − (Python) objects\n",
    "\n",
    "    'S', 'a' − (byte-)string\n",
    "\n",
    "    'U' − Unicode\n",
    "\n",
    "    'V' − raw data (void)\n"
   ]
  },
  {
   "cell_type": "markdown",
   "id": "487cea29",
   "metadata": {},
   "source": [
    "### NumPy - Array Attributes"
   ]
  },
  {
   "cell_type": "markdown",
   "id": "5a448729",
   "metadata": {},
   "source": [
    "Dans ce chapitre, nous allons discuter des différents attributs de tableaux de NumPy"
   ]
  },
  {
   "cell_type": "markdown",
   "id": "8267c006",
   "metadata": {},
   "source": [
    "##### ndarray.shape\n",
    "Cet attribut de tableau renvoie un tuple composé des dimensions du tableau. Il peut également être utilisé pour redimensionner le tableau."
   ]
  },
  {
   "cell_type": "markdown",
   "id": "8a579360",
   "metadata": {},
   "source": [
    "###### Exemples"
   ]
  },
  {
   "cell_type": "code",
   "execution_count": null,
   "id": "d56239d9",
   "metadata": {},
   "outputs": [],
   "source": [
    "import numpy as np \n",
    "a = np.array([[1,2,3],[4,5,6]]) \n",
    "print(a.shape)"
   ]
  },
  {
   "cell_type": "code",
   "execution_count": null,
   "id": "59854eee",
   "metadata": {},
   "outputs": [],
   "source": [
    "# this resizes the ndarray \n",
    "import numpy as np \n",
    "\n",
    "a = np.array([[1,2,3],[4,5,6]])\n",
    "print(a, \"\\n\")\n",
    "a.shape = (3,2) \n",
    "print(a,'\\n') \n",
    "#NumPy also provides a reshape function to resize an array.\n",
    "a = a.reshape(2, 3)\n",
    "print(a)"
   ]
  },
  {
   "cell_type": "markdown",
   "id": "9c30fbb1",
   "metadata": {},
   "source": [
    "##### ndarray.ndim\n",
    "Cet attribut de tableau renvoie le nombre de dimensions du tableau."
   ]
  },
  {
   "cell_type": "code",
   "execution_count": null,
   "id": "af6da5af",
   "metadata": {},
   "outputs": [],
   "source": [
    "# an array of evenly spaced numbers \n",
    "import numpy as np \n",
    "a = np.arange(24) \n",
    "print(a)"
   ]
  },
  {
   "cell_type": "code",
   "execution_count": null,
   "id": "4822b2db",
   "metadata": {},
   "outputs": [],
   "source": [
    "# this is one dimensional array \n",
    "import numpy as np \n",
    "a = np.arange(24) \n",
    "print(a)\n",
    "print(a.ndim)\n",
    "\n",
    "# now reshape it \n",
    "b = a.reshape(2,4,3) \n",
    "print('\\n',b )\n",
    "print(b.ndim)\n",
    "# b is having three dimensions"
   ]
  },
  {
   "cell_type": "markdown",
   "id": "36469fae",
   "metadata": {},
   "source": [
    "##### numpy.itemsize\n",
    "Cet attribut de tableau renvoie la longueur de chaque élément du tableau en octets."
   ]
  },
  {
   "cell_type": "code",
   "execution_count": null,
   "id": "949a7d94",
   "metadata": {},
   "outputs": [],
   "source": [
    "# dtype of array is int8 (1 byte) \n",
    "import numpy as np \n",
    "x = np.array([1,2,3,4,5], dtype = np.int32) \n",
    "print(x.itemsize)\n"
   ]
  },
  {
   "cell_type": "markdown",
   "id": "5d87f4f1",
   "metadata": {},
   "source": [
    "##### numpy.flags\n",
    "Ce attribut renvoie les  elements suivants :"
   ]
  },
  {
   "cell_type": "markdown",
   "id": "f8958f04",
   "metadata": {},
   "source": [
    "<table class=\"table table-bordered\">\n",
    "<tbody><tr>\n",
    "<th style=\"text-align:center;\">Sr.No.</th>\n",
    "<th style=\"text-align:center;\">Attribute &amp; Description</th>\n",
    "</tr>\n",
    "<tr>\n",
    "<td class=\"ts\">1</td>\n",
    "<td><p><b>C_CONTIGUOUS (C)</b></p>\n",
    "<p>The data is in a single, C-style contiguous segment</p>\n",
    "</td>\n",
    "</tr>\n",
    "<tr>\n",
    "<td class=\"ts\">2</td>\n",
    "<td><p><b>F_CONTIGUOUS (F)</b></p>\n",
    "<p>The data is in a single, Fortran-style contiguous segment</p>\n",
    "</td>\n",
    "</tr>\n",
    "<tr>\n",
    "<td class=\"ts\">3</td>\n",
    "<td><p><b>OWNDATA (O)</b></p>\n",
    "<p>The array owns the memory it uses or borrows it from another object</p>\n",
    "</td>\n",
    "</tr>\n",
    "<tr>\n",
    "<td class=\"ts\">4</td>\n",
    "<td><p><b>WRITEABLE (W)</b></p>\n",
    "<p>The data area can be written to. Setting this to False locks the data, making it read-only</p>\n",
    "</td>\n",
    "</tr>\n",
    "<tr>\n",
    "<td class=\"ts\">5</td>\n",
    "<td><p><b>ALIGNED (A)</b></p>\n",
    "<p>The data and all elements are aligned appropriately for the hardware</p>\n",
    "</td>\n",
    "</tr>\n",
    "<tr>\n",
    "<td class=\"ts\">6</td>\n",
    "<td><p><b>UPDATEIFCOPY (U)</b></p>\n",
    "<p>This array is a copy of some other array. When this array is deallocated, the base array will be updated with the contents of this array</p>\n",
    "</td>\n",
    "</tr>\n",
    "    </tbody></table>"
   ]
  },
  {
   "cell_type": "code",
   "execution_count": null,
   "id": "8b65d3d0",
   "metadata": {},
   "outputs": [],
   "source": [
    "import numpy as np \n",
    "x = np.array([1,2,3,4,5]) \n",
    "print(x.flags)"
   ]
  },
  {
   "cell_type": "markdown",
   "id": "4d088d7e",
   "metadata": {},
   "source": [
    "### NumPy - Array Creation Routines"
   ]
  },
  {
   "cell_type": "markdown",
   "id": "8b2d6772",
   "metadata": {},
   "source": [
    "Un nouvel objet ndarray peut être construit par l'une des routines de création de tableau suivantes ou en utilisant un constructeur ndarray de bas niveau."
   ]
  },
  {
   "cell_type": "markdown",
   "id": "7efffae8",
   "metadata": {},
   "source": [
    "#### numpy.empty\n",
    "Elle crée un tableau non initialisé de forme et du dtype spécifiés. Il utilise le constructeur suivant :"
   ]
  },
  {
   "cell_type": "code",
   "execution_count": null,
   "id": "e7bc9067",
   "metadata": {},
   "outputs": [],
   "source": [
    "numpy.empty(shape, dtype = float, order = 'C')"
   ]
  },
  {
   "cell_type": "markdown",
   "id": "b8ef926f",
   "metadata": {},
   "source": [
    "##### Description des paramètres\n",
    "<table class=\"table table-bordered\">\n",
    "<tbody><tr>\n",
    "<th style=\"text-align:center;\">Sr.No.</th>\n",
    "<th style=\"text-align:center;\">Parameter &amp; Description</th>\n",
    "</tr>\n",
    "<tr>\n",
    "<td class=\"ts\">1</td>\n",
    "<td><p><b>Shape</b></p>\n",
    "<p>Shape of an empty array in int or tuple of int</p>\n",
    "</td>\n",
    "</tr>\n",
    "<tr>\n",
    "<td class=\"ts\">2</td>\n",
    "<td><p><b>Dtype</b></p>\n",
    "<p>Desired output data type. Optional</p>\n",
    "</td>\n",
    "</tr>\n",
    "<tr>\n",
    "<td class=\"ts\">3</td>\n",
    "<td><p><b>Order</b></p>\n",
    "<p>'C' for C-style row-major array, 'F' for FORTRAN style column-major array</p>\n",
    "</td>\n",
    "</tr>\n",
    "</tbody></table>"
   ]
  },
  {
   "cell_type": "code",
   "execution_count": null,
   "id": "2f83242e",
   "metadata": {},
   "outputs": [],
   "source": [
    "# Exemple \n",
    "import numpy as np \n",
    "x = np.empty([3,2], dtype = int) \n",
    "print(x)\n",
    "\n",
    "#Remarque - Les éléments d'un tableau présentent des valeurs aléatoires car ils ne sont pas initialisés."
   ]
  },
  {
   "cell_type": "markdown",
   "id": "b06301c3",
   "metadata": {},
   "source": [
    "### numpy.zeros\n",
    "Renvoie un nouveau tableau de taille spécifiée, rempli de zéros.\n",
    "Son constructeur est le suivant "
   ]
  },
  {
   "cell_type": "code",
   "execution_count": null,
   "id": "e3d3750e",
   "metadata": {},
   "outputs": [],
   "source": [
    "numpy.zeros(shape, dtype = float, order = 'C')"
   ]
  },
  {
   "cell_type": "code",
   "execution_count": null,
   "id": "86a72894",
   "metadata": {},
   "outputs": [],
   "source": [
    "# Exemple1\n",
    "# array of five zeros. Default dtype is float \n",
    "import numpy as np \n",
    "x = np.zeros(5) \n",
    "print(x)"
   ]
  },
  {
   "cell_type": "code",
   "execution_count": null,
   "id": "8551db28",
   "metadata": {},
   "outputs": [],
   "source": [
    "# Exemple2\n",
    "import numpy as np \n",
    "x = np.zeros((5,), dtype = np.int) \n",
    "print(x)"
   ]
  },
  {
   "cell_type": "code",
   "execution_count": null,
   "id": "6fde6b9a",
   "metadata": {},
   "outputs": [],
   "source": [
    "# Exemple3\n",
    "# custom type \n",
    "import numpy as np \n",
    "x = np.zeros((2,2), dtype = [('x', 'i4'), ('y', 'i4')])  \n",
    "print(x)"
   ]
  },
  {
   "cell_type": "markdown",
   "id": "c89c2684",
   "metadata": {},
   "source": [
    "### numpy.ones\n",
    "    Meme fonctionnement que numpy.zeros, sauf qu'il initialise les champs, non pas à zéro, mais à 1."
   ]
  },
  {
   "cell_type": "code",
   "execution_count": null,
   "id": "b4207f34",
   "metadata": {},
   "outputs": [],
   "source": [
    "# Exemple \n",
    "# custom type \n",
    "import numpy as np \n",
    "x = np.ones((2,2), dtype = [('x', 'i4'), ('y', 'i4')])  \n",
    "print(x)"
   ]
  },
  {
   "cell_type": "markdown",
   "id": "841eaed2",
   "metadata": {},
   "source": [
    "### NumPy - Array From Existing Data\n",
    "    Dans ce chapitre nous discuterons de comment créer des listes à partir de données existentes.\n",
    "    \n",
    "#### numpy.asarray\n",
    "    Cette fonction est similaire à numpy.array sauf qu'elle a moins de paramètres. Cette routine est utile pour convertir une séquence Python en ndarray.\n",
    "    Elle a pour contructeur :"
   ]
  },
  {
   "cell_type": "code",
   "execution_count": null,
   "id": "8bf1fdc7",
   "metadata": {},
   "outputs": [],
   "source": [
    "numpy.asarray(a, dtype = None, order = None)"
   ]
  },
  {
   "cell_type": "markdown",
   "id": "5afbd3c5",
   "metadata": {},
   "source": [
    "Le constructeur prend les paramètres suivants :\n",
    "<table class=\"table table-bordered\">\n",
    "<tbody><tr>\n",
    "<th style=\"text-align:center;\">Sr.No.</th>\n",
    "<th style=\"text-align:center;\">Parameter &amp; Description</th>\n",
    "</tr>\n",
    "<tr>\n",
    "<td class=\"ts\">1</td>\n",
    "<td><p><b>a</b></p>\n",
    "<p>Input data in any form such as list, list of tuples, tuples, tuple of tuples or tuple of lists</p>\n",
    "</td>\n",
    "</tr>\n",
    "<tr>\n",
    "<td class=\"ts\">2</td>\n",
    "<td><p><b>dtype</b></p>\n",
    "<p>By default, the data type of input data is applied to the resultant ndarray</p>\n",
    "</td>\n",
    "</tr>\n",
    "<tr>\n",
    "<td class=\"ts\">3</td>\n",
    "<td><p><b>order</b></p>\n",
    "<p>C (row major) or F (column major). C is default</p>\n",
    "</td>\n",
    "</tr>\n",
    "</tbody></table>"
   ]
  },
  {
   "cell_type": "code",
   "execution_count": null,
   "id": "a8f553b4",
   "metadata": {},
   "outputs": [],
   "source": [
    "# Exemple \n",
    "#convert list to ndarray \n",
    "\n",
    "import numpy as np \n",
    "\n",
    "x = [1,2,3] \n",
    "a = np.asarray(x) \n",
    "print(a)\n",
    "a = np.asarray(x, dtype = float) \n",
    "print(a)\n",
    "x = (1,2,3) \n",
    "a = np.asarray(x) \n",
    "print(a)"
   ]
  },
  {
   "cell_type": "code",
   "execution_count": null,
   "id": "4318ce53",
   "metadata": {},
   "outputs": [],
   "source": [
    "# ndarray from list of tuples \n",
    "import numpy as np \n",
    "\n",
    "x = [(1,2,3),(4,5)] \n",
    "a = np.asarray(x) \n",
    "print(a)"
   ]
  },
  {
   "cell_type": "markdown",
   "id": "8445bffa",
   "metadata": {},
   "source": [
    "### numpy.frombuffer\n",
    "Cette fonction interprète un tampon comme un tableau unidimensionnel. N'importe quel objet qui expose l'interface de tampon est utilisé comme paramètre pour retourner un ndarray. Son constructeur :"
   ]
  },
  {
   "cell_type": "code",
   "execution_count": null,
   "id": "17157cf5",
   "metadata": {},
   "outputs": [],
   "source": [
    "numpy.frombuffer(buffer, dtype = float, count = -1, offset = 0)"
   ]
  },
  {
   "cell_type": "markdown",
   "id": "2c268c02",
   "metadata": {},
   "source": [
    "Le constructeur prend les paramètres suivants :\n",
    "<table class=\"table table-bordered\">\n",
    "<tbody><tr>\n",
    "<th style=\"text-align:center;\">Sr.No.</th>\n",
    "<th style=\"text-align:center;\">Parameter &amp; Description</th>\n",
    "</tr>\n",
    "<tr>\n",
    "<td class=\"ts\">1</td>\n",
    "<td><p><b>buffer</b></p>\n",
    "<p>Any object that exposes buffer interface</p>\n",
    "</td>\n",
    "</tr>\n",
    "<tr>\n",
    "<td class=\"ts\">2</td>\n",
    "<td><p><b>dtype</b></p>\n",
    "<p>Data type of returned ndarray. Defaults to float</p>\n",
    "</td>\n",
    "</tr>\n",
    "<tr>\n",
    "<td class=\"ts\">3</td>\n",
    "<td><p><b>count</b></p>\n",
    "<p>The number of items to read, default -1 means all data</p>\n",
    "</td>\n",
    "</tr>\n",
    "<tr>\n",
    "<td class=\"ts\">4</td>\n",
    "<td><p><b>offset</b></p>\n",
    "<p>The starting position to read from. Default is 0</p>\n",
    "</td>\n",
    "</tr>\n",
    "</tbody></table>"
   ]
  },
  {
   "cell_type": "markdown",
   "id": "d3a5cf50",
   "metadata": {},
   "source": [
    "### numpy.fromiter\n",
    "Cette fonction construit un objet ndarray à partir de n'importe quel objet itérable. Un nouveau tableau unidimensionnel est retourné par cette fonction. Son contructeur:"
   ]
  },
  {
   "cell_type": "code",
   "execution_count": null,
   "id": "7c8fb56c",
   "metadata": {},
   "outputs": [],
   "source": [
    "numpy.fromiter(iterable, dtype, count = -1)"
   ]
  },
  {
   "cell_type": "markdown",
   "id": "49692317",
   "metadata": {},
   "source": [
    "Ici, le constructeur prend les paramètres suivants.\n",
    "<table class=\"table table-bordered\">\n",
    "<tbody><tr>\n",
    "<th style=\"text-align:center;\">Sr.No.</th>\n",
    "<th style=\"text-align:center;\">Parameter &amp; Description</th>\n",
    "</tr>\n",
    "<tr>\n",
    "<td class=\"ts\">1</td>\n",
    "<td><p><b>iterable</b></p>\n",
    "<p>Any iterable object</p>\n",
    "</td>\n",
    "</tr>\n",
    "<tr>\n",
    "<td class=\"ts\">2</td>\n",
    "<td><p><b>dtype</b></p>\n",
    "<p>Data type of resultant array</p>\n",
    "</td>\n",
    "</tr>\n",
    "<tr>\n",
    "<td class=\"ts\">3</td>\n",
    "<td><p><b>count</b></p>\n",
    "<p>The number of items to be read from iterator. Default is -1 which means all data to be read</p>\n",
    "</td>\n",
    "</tr>\n",
    "</tbody></table>"
   ]
  },
  {
   "cell_type": "code",
   "execution_count": null,
   "id": "11d0cd8b",
   "metadata": {},
   "outputs": [],
   "source": [
    "## Exemple\n",
    "\n",
    "# obtain iterator object from list \n",
    "import numpy as np \n",
    "list = range(5) \n",
    "it = iter(list)  \n",
    "\n",
    "# use iterator to create ndarray \n",
    "x = np.fromiter(it, dtype = float) \n",
    "print(x)"
   ]
  },
  {
   "cell_type": "markdown",
   "id": "40599d23",
   "metadata": {},
   "source": [
    "### NumPy - Array From Numerical Ranges\n",
    "Dans ce chapitre, nous allons voir comment créer un tableau à partir de plages numériques.\n",
    "#### numpy.arange\n",
    "Cette fonction renvoie un objet ndarray contenant des valeurs uniformément espacées dans une plage donnée. Le format de la fonction est le suivant :"
   ]
  },
  {
   "cell_type": "code",
   "execution_count": null,
   "id": "40c7313a",
   "metadata": {},
   "outputs": [],
   "source": [
    "numpy.arange(start, stop, step, dtype)"
   ]
  },
  {
   "cell_type": "markdown",
   "id": "e0dbe875",
   "metadata": {},
   "source": [
    "Ici, le constructeur prend les paramètres suivants.\n",
    "<table class=\"table table-bordered\">\n",
    "<tbody><tr>\n",
    "<th style=\"text-align:center;\">Sr.No.</th>\n",
    "<th style=\"text-align:center;\">Parameter &amp; Description</th>\n",
    "</tr>\n",
    "<tr>\n",
    "<td class=\"ts\">1</td>\n",
    "<td><p><b>start</b></p>\n",
    "<p>The start of an interval. If omitted, defaults to 0</p>\n",
    "</td>\n",
    "</tr>\n",
    "<tr>\n",
    "<td class=\"ts\">2</td>\n",
    "<td><p><b>stop</b></p>\n",
    "<p>The end of an interval (not including this number)</p>\n",
    "</td>\n",
    "</tr>\n",
    "<tr>\n",
    "<td class=\"ts\">3</td>\n",
    "<td><p><b>step</b></p>\n",
    "<p>Spacing between values, default is 1</p>\n",
    "</td>\n",
    "</tr>\n",
    "<tr>\n",
    "<td class=\"ts\">4</td>\n",
    "<td><p><b>dtype</b></p>\n",
    "<p>Data type of resulting ndarray. If not given, data type of input is used</p>\n",
    "</td>\n",
    "</tr>\n",
    "</tbody></table>"
   ]
  },
  {
   "cell_type": "code",
   "execution_count": null,
   "id": "3112d89b",
   "metadata": {},
   "outputs": [],
   "source": [
    "# Exemple\n",
    "# start and stop parameters set \n",
    "import numpy as np \n",
    "x = np.arange(10,20,2, dtype = float) \n",
    "print(x)"
   ]
  },
  {
   "cell_type": "markdown",
   "id": "86a0fafb",
   "metadata": {},
   "source": [
    "###  numpy.linspace\n",
    "Cette fonction est similaire à la fonction arange(). Dans cette fonction, au lieu de la taille du pas, on spécifie le nombre de valeurs régulièrement espacées entre les intervalles. L'utilisation de cette fonction est la suivante :"
   ]
  },
  {
   "cell_type": "code",
   "execution_count": 203,
   "id": "5598def8",
   "metadata": {},
   "outputs": [
    {
     "ename": "NameError",
     "evalue": "name 'start' is not defined",
     "output_type": "error",
     "traceback": [
      "\u001b[0;31m---------------------------------------------------------------------------\u001b[0m",
      "\u001b[0;31mNameError\u001b[0m                                 Traceback (most recent call last)",
      "\u001b[0;32m<ipython-input-203-1e288f2d3bfd>\u001b[0m in \u001b[0;36m<module>\u001b[0;34m\u001b[0m\n\u001b[0;32m----> 1\u001b[0;31m \u001b[0mnumpy\u001b[0m\u001b[0;34m.\u001b[0m\u001b[0mlinspace\u001b[0m\u001b[0;34m(\u001b[0m\u001b[0mstart\u001b[0m\u001b[0;34m,\u001b[0m \u001b[0mstop\u001b[0m\u001b[0;34m,\u001b[0m \u001b[0mnum\u001b[0m\u001b[0;34m,\u001b[0m \u001b[0mendpoint\u001b[0m\u001b[0;34m,\u001b[0m \u001b[0mretstep\u001b[0m\u001b[0;34m,\u001b[0m \u001b[0mdtype\u001b[0m\u001b[0;34m)\u001b[0m\u001b[0;34m\u001b[0m\u001b[0;34m\u001b[0m\u001b[0m\n\u001b[0m",
      "\u001b[0;31mNameError\u001b[0m: name 'start' is not defined"
     ]
    }
   ],
   "source": [
    "numpy.linspace(start, stop, num, endpoint, retstep, dtype)"
   ]
  },
  {
   "cell_type": "markdown",
   "id": "a615459f",
   "metadata": {},
   "source": [
    "Le constructeur prend les paramètres suivants :\n",
    "<table class=\"table table-bordered\">\n",
    "<tbody><tr>\n",
    "<th style=\"text-align:center;\">Sr.No.</th>\n",
    "<th style=\"text-align:center;\">Parameter &amp; Description</th>\n",
    "</tr>\n",
    "<tr>\n",
    "<td class=\"ts\">1</td>\n",
    "<td><p><b>start</b></p>\n",
    "<p>The starting value of the sequence</p>\n",
    "</td>\n",
    "</tr>\n",
    "<tr>\n",
    "<td class=\"ts\">2</td>\n",
    "<td><p><b>stop</b></p>\n",
    "<p>The end value of the sequence, included in the sequence if endpoint set to true</p>\n",
    "</td>\n",
    "</tr>\n",
    "<tr>\n",
    "<td class=\"ts\">3</td>\n",
    "<td><p><b>num</b></p>\n",
    "<p>The number of evenly spaced samples to be generated. Default is 50</p>\n",
    "</td>\n",
    "</tr>\n",
    "<tr>\n",
    "<td class=\"ts\">4</td>\n",
    "<td><p><b>endpoint</b></p>\n",
    "<p>True by default, hence the stop value is included in the sequence. If false, it is not included</p>\n",
    "</td>\n",
    "</tr>\n",
    "<tr>\n",
    "<td class=\"ts\">5</td>\n",
    "<td><p><b>retstep</b></p>\n",
    "<p>If true, returns samples and step between the consecutive numbers</p>\n",
    "</td>\n",
    "</tr>\n",
    "<tr>\n",
    "<td class=\"ts\">6</td>\n",
    "<td><p><b>dtype</b></p>\n",
    "<p>Data type of output <b>ndarray</b></p>\n",
    "</td>\n",
    "</tr>\n",
    "</tbody></table>"
   ]
  },
  {
   "cell_type": "code",
   "execution_count": null,
   "id": "d64c7761",
   "metadata": {},
   "outputs": [],
   "source": [
    "#Exemples\n",
    "\n",
    "import numpy as np \n",
    "x = np.linspace(10,20,5) \n",
    "print(x)"
   ]
  },
  {
   "cell_type": "code",
   "execution_count": null,
   "id": "d42abea3",
   "metadata": {},
   "outputs": [],
   "source": [
    "# endpoint set to false \n",
    "import numpy as np \n",
    "x = np.linspace(10,20, 5, endpoint = False) \n",
    "print(x)"
   ]
  },
  {
   "cell_type": "code",
   "execution_count": null,
   "id": "e7a40426",
   "metadata": {},
   "outputs": [],
   "source": [
    "# find retstep value \n",
    "import numpy as np \n",
    "\n",
    "x = np.linspace(1,2,5, retstep = True) \n",
    "print(x)\n",
    "# retstep here is 0.25"
   ]
  },
  {
   "cell_type": "markdown",
   "id": "d81837aa",
   "metadata": {},
   "source": [
    "### numpy.logspace\n",
    "Cette fonction renvoie un objet ndarray qui contient les nombres qui sont uniformément espacés sur une échelle logarithmique. Les points de départ et d'arrivée de l'échelle sont des indices de la base, généralement 10.\n",
    "Son constructeur :"
   ]
  },
  {
   "cell_type": "code",
   "execution_count": null,
   "id": "90f112fc",
   "metadata": {},
   "outputs": [],
   "source": [
    "numpy.logspace(start, stop, num, endpoint, base, dtype)"
   ]
  },
  {
   "cell_type": "markdown",
   "id": "a27b440d",
   "metadata": {},
   "source": [
    "Les paramètres du constructeur : \n",
    "<table>\n",
    "<tbody><tr>\n",
    "<th style=\"text-align:center;\">Sr.No.</th>\n",
    "<th style=\"text-align:center;\">Parameter &amp; Description</th>\n",
    "</tr>\n",
    "<tr>\n",
    "<td class=\"ts\">1</td>\n",
    "<td><p><b>start</b></p>\n",
    "<p>The starting point of the sequence is base<sup>start</sup></p>\n",
    "</td>\n",
    "</tr>\n",
    "<tr>\n",
    "<td class=\"ts\">2</td>\n",
    "<td><p><b>stop</b></p>\n",
    "<p>The final value of sequence is base<sup>stop</sup></p>\n",
    "</td>\n",
    "</tr>\n",
    "<tr>\n",
    "<td class=\"ts\">3</td>\n",
    "<td><p><b>num</b></p>\n",
    "<p>The number of values between the range. Default is 50</p>\n",
    "</td>\n",
    "</tr>\n",
    "<tr>\n",
    "<td class=\"ts\">4</td>\n",
    "<td><p><b>endpoint</b></p>\n",
    "<p>If true, stop is the last value in the range</p>\n",
    "</td>\n",
    "</tr>\n",
    "<tr>\n",
    "<td class=\"ts\">5</td>\n",
    "<td><p><b>base</b></p>\n",
    "<p>Base of log space, default is 10</p>\n",
    "</td>\n",
    "</tr>\n",
    "<tr>\n",
    "<td class=\"ts\">6</td>\n",
    "<td><p><b>dtype</b></p>\n",
    "<p>Data type of output array. If not given, it depends upon other input arguments</p>\n",
    "</td>\n",
    "</tr>\n",
    "</tbody>\n",
    "<table/>"
   ]
  },
  {
   "cell_type": "code",
   "execution_count": null,
   "id": "c5cdeafb",
   "metadata": {},
   "outputs": [],
   "source": [
    "# Exemples\n",
    "\n",
    "import numpy as np \n",
    "# default base is 10 \n",
    "a = np.logspace(1.0, 2.0, num = 10) \n",
    "print(a)"
   ]
  },
  {
   "cell_type": "code",
   "execution_count": null,
   "id": "1c5273b3",
   "metadata": {},
   "outputs": [],
   "source": [
    "# set base of log space to 2 \n",
    "import numpy as np \n",
    "a = np.logspace(1,10,num = 10, base = 2) \n",
    "print(a)"
   ]
  },
  {
   "cell_type": "markdown",
   "id": "dd1f4701",
   "metadata": {},
   "source": [
    "### NumPy - Indexing & Slicing\n",
    "\n",
    "    Le contenu de l'objet ndarray peut être accédé et modifié par indexation ou découpage, tout comme les objets conteneurs intégrés de Python.\n",
    "\n",
    "Comme mentionné précédemment, les éléments de l'objet ndarray suivent un index basé sur zéro. Trois types de méthodes d'indexation sont disponibles : l'accès aux champs, le découpage de base et l'indexation avancée.\n",
    "\n",
    "Le découpage de base est une extension du concept de base de Python de découpage à n dimensions. Un objet de découpage Python est construit en donnant les paramètres start, stop et step à la fonction intégrée de découpage. Cet objet slice est passé au tableau pour extraire une partie du tableau."
   ]
  },
  {
   "cell_type": "code",
   "execution_count": null,
   "id": "ee7dbf2d",
   "metadata": {},
   "outputs": [],
   "source": [
    "# Exemples\n",
    "\n",
    "import numpy as np \n",
    "a = np.arange(10) \n",
    "s = slice(2,7,2) \n",
    "print(a[s])"
   ]
  },
  {
   "cell_type": "markdown",
   "id": "ea3ad472",
   "metadata": {},
   "source": [
    "Dans l'exemple ci-dessus, un objet ndarray est préparé par la fonction arange(). Ensuite, un objet slice est défini avec les valeurs start, stop, et step 2, 7, et 2 respectivement. Lorsque cet objet slice est passé à l'objet ndarray, une partie de celui-ci, commençant à l'indice 2 jusqu'à 7 avec un pas de 2, est découpée en tranches.\n",
    "\n",
    "Le même résultat peut également être obtenu en donnant les paramètres de découpage séparés par deux points : (start:stop:step) directement à l'objet ndarray.\n",
    "Le contenu de l'objet ndarray peut être accédé et modifié par indexation ou découpage, tout comme les objets conteneurs intégrés de Python."
   ]
  },
  {
   "cell_type": "code",
   "execution_count": null,
   "id": "e59c67b3",
   "metadata": {},
   "outputs": [],
   "source": [
    "# Exemple \n",
    "import numpy as np \n",
    "a = np.arange(10) \n",
    "b = a[2:7:2] \n",
    "print(b)"
   ]
  },
  {
   "cell_type": "markdown",
   "id": "054adcc2",
   "metadata": {},
   "source": [
    "Si un seul paramètre est placé, un seul élément correspondant à l'index sera retourné. Si un : est inséré devant, tous les éléments à partir de cet index seront extraits. Si deux paramètres (avec un : entre eux) sont utilisés, les éléments entre les deux index (sans inclure l'index d'arrêt) avec le pas par défaut un sont découpés.\n",
    "Le contenu de l'objet ndarray peut être accédé et modifié par indexation ou découpage, tout comme les objets conteneurs intégrés de Python."
   ]
  },
  {
   "cell_type": "code",
   "execution_count": null,
   "id": "6ff8077e",
   "metadata": {},
   "outputs": [],
   "source": [
    "# slice single item \n",
    "import numpy as np \n",
    "\n",
    "a = np.arange(10) \n",
    "b = a[5] \n",
    "print(b)"
   ]
  },
  {
   "cell_type": "code",
   "execution_count": null,
   "id": "bda8e4bd",
   "metadata": {},
   "outputs": [],
   "source": [
    "# slice items starting from index \n",
    "import numpy as np \n",
    "a = np.arange(10) \n",
    "print(a[2:])\n",
    "\n",
    "# slice items between indexes \n",
    "import numpy as np \n",
    "a = np.arange(10) \n",
    "print(a[2:5], '\\n')\n",
    "\n",
    "a = np.array([[1,2,3],[3,4,5],[4,5,6]]) \n",
    "print(a, '\\n')\n",
    "\n",
    "# slice items starting from index\n",
    "print(a[1:])"
   ]
  },
  {
   "cell_type": "code",
   "execution_count": null,
   "id": "9800f6b6",
   "metadata": {},
   "outputs": [],
   "source": [
    "# array to begin with \n",
    "import numpy as np \n",
    "a = np.array([[1,2,3],[3,4,5],[4,5,6]]) \n",
    "\n",
    "print ('Our array is:') \n",
    "print(a)\n",
    "print ('\\n')  \n",
    "\n",
    "# this returns array of items in the second column \n",
    "print ('The items in the second column are:')  \n",
    "print (a[...,1] )\n",
    "print ('\\n')  \n",
    "\n",
    "# Now we will slice all items from the second row \n",
    "print ('The items in the second row are:') \n",
    "print (a[1,...] )\n",
    "print ('\\n')  \n",
    "\n",
    "# Now we will slice all items from column 1 onwards \n",
    "print ('The items column 1 onwards are:') \n",
    "print (a[...,1:]"
   ]
  },
  {
   "cell_type": "markdown",
   "id": "e3c8a722",
   "metadata": {},
   "source": [
    "### NumPy - Advanced Indexing\n",
    "Il est possible d'effectuer une sélection dans ndarray qui est une séquence non-tuple, un objet ndarray de type entier ou booléen, ou un tuple dont au moins un élément est un objet séquence. L'indexation avancée renvoie toujours une copie des données. En revanche, le découpage en tranches ne présente qu'une vue.\n",
    "\n",
    "Il existe deux types d'indexation avancée - Integer et Boolean.\n",
    "\n",
    "#### Integer Indexing\n",
    "\n",
    "Ce mécanisme permet de sélectionner n'importe quel élément arbitraire d'un tableau en fonction de son index à N dimensions. Chaque tableau d'entiers représente le nombre d'index dans cette dimension. Lorsque l'index est constitué d'autant de tableaux d'entiers que de dimensions du tableau nd cible, cela devient simple.\n",
    "\n",
    "Dans l'exemple suivant, un élément de la colonne spécifiée de chaque ligne de l'objet ndarray est sélectionné. Par conséquent, l'index de ligne contient tous les numéros de ligne, et l'index de colonne spécifie l'élément à sélectionner."
   ]
  },
  {
   "cell_type": "code",
   "execution_count": null,
   "id": "2f13ba68",
   "metadata": {},
   "outputs": [],
   "source": [
    "# Exemples\n",
    "import numpy as np \n",
    "\n",
    "x = np.array([[1, 2], [3, 4], [5, 6]]) \n",
    "y = x[[0,1,2], [0,1,0]] \n",
    "print (y)"
   ]
  },
  {
   "cell_type": "markdown",
   "id": "2c6b78ee",
   "metadata": {},
   "source": [
    "La sélection comprend les éléments situés à (0,0), (1,1) et (2,0) du premier tableau.\n",
    "\n",
    "Dans l'exemple suivant, les éléments placés aux coins d'un tableau 4X3 sont sélectionnés. Les indices de ligne de la sélection sont [0, 0] et [3, 3] tandis que les indices de colonne sont [0, 2] et [0, 2]."
   ]
  },
  {
   "cell_type": "code",
   "execution_count": null,
   "id": "6ed056b7",
   "metadata": {},
   "outputs": [],
   "source": [
    "# Exemples \n",
    "\n",
    "import numpy as np \n",
    "x = np.array([[ 0,  1,  2],[ 3,  4,  5],[ 6,  7,  8],[ 9, 10, 11]]) \n",
    "   \n",
    "print( 'Our array is:' )\n",
    "print (x) \n",
    "print ('\\n') \n",
    "\n",
    "rows = np.array([[0,0],[3,3]])\n",
    "cols = np.array([[0,2],[0,2]]) \n",
    "y = x[rows,cols] \n",
    "   \n",
    "print ('The corner elements of this array are:') \n",
    "print (y)"
   ]
  },
  {
   "cell_type": "markdown",
   "id": "21a8b465",
   "metadata": {},
   "source": [
    "La sélection résultante est un objet ndarray contenant des éléments d'angle.\n",
    "\n",
    "L'indexation avancée et de base peut être combinée en utilisant une tranche ( :) ou une ellipse (...) avec un tableau d'index. L'exemple suivant utilise slice pour la ligne et advanced index pour la colonne. Le résultat est le même lorsque la tranche est utilisée pour les deux. Mais l'index avancé résulte en une copie et peut avoir une disposition de mémoire différente."
   ]
  },
  {
   "cell_type": "code",
   "execution_count": null,
   "id": "37e9bdfa",
   "metadata": {},
   "outputs": [],
   "source": [
    "# Exemples \n",
    "import numpy as np \n",
    "x = np.array([[ 0,  1,  2],[ 3,  4,  5],[ 6,  7,  8],[ 9, 10, 11]]) \n",
    "\n",
    "print ('Our array is:') \n",
    "print (x) \n",
    "print ('\\n')  \n",
    "\n",
    "# slicing \n",
    "z = x[1:4,1:3] \n",
    "\n",
    "print ('After slicing, our array becomes:') \n",
    "print (z) \n",
    "print ('\\n' ) \n",
    "\n",
    "# using advanced index for column \n",
    "y = x[1:4,[1,2]] \n",
    "\n",
    "print ('Slicing using advanced index for column:') \n",
    "print (y)"
   ]
  },
  {
   "cell_type": "markdown",
   "id": "a5df0a24",
   "metadata": {},
   "source": [
    "#### Boolean Array Indexing\n",
    "Ce type d'indexation avancée est utilisé lorsque l'objet résultant est censé être le résultat d'opérations booléennes, telles que des opérateurs de comparaison."
   ]
  },
  {
   "cell_type": "code",
   "execution_count": null,
   "id": "73219c7b",
   "metadata": {},
   "outputs": [],
   "source": [
    "# Exemples\n",
    "\n",
    "import numpy as np \n",
    "x = np.array([[ 0,  1,  2],[ 3,  4,  5],[ 6,  7,  8],[ 9, 10, 11]]) \n",
    "\n",
    "print ('Our array is:') \n",
    "print (x) \n",
    "print ('\\n')  \n",
    "\n",
    "# Now we will print the items greater than 5 \n",
    "print ('The items greater than 5 are:') \n",
    "print (x[x > 5])"
   ]
  },
  {
   "cell_type": "code",
   "execution_count": null,
   "id": "92f026cc",
   "metadata": {},
   "outputs": [],
   "source": [
    "# In this example, NaN (Not a Number) elements are omitted by using ~ (complement operator).\n",
    "import numpy as np \n",
    "a = np.array([np.nan, 1,2,np.nan,3,4,5]) \n",
    "print(a)\n",
    "print (a[~np.isnan(a)])"
   ]
  },
  {
   "cell_type": "code",
   "execution_count": null,
   "id": "d49671b5",
   "metadata": {},
   "outputs": [],
   "source": [
    "# The following example shows how to filter out the non-complex elements from an array.\n",
    "import numpy as np \n",
    "a = np.array([1, 2+6j, 5, 3.5+5j]) \n",
    "print( a[np.iscomplex(a)])"
   ]
  },
  {
   "cell_type": "markdown",
   "id": "d98ee33c",
   "metadata": {},
   "source": [
    "### NumPy - Broadcasting\n",
    "Le terme \"brodcastion\" (diffusion) fait référence à la capacité de NumPy à traiter des tableaux de formes différentes lors des opérations arithmétiques. Les opérations arithmétiques sur les tableaux sont généralement effectuées sur les éléments correspondants. Si deux tableaux sont exactement de la même forme, alors ces opérations sont effectuées sans problème."
   ]
  },
  {
   "cell_type": "code",
   "execution_count": null,
   "id": "db71a34a",
   "metadata": {},
   "outputs": [],
   "source": [
    "# Exemples\n",
    "a = np.array([1,2,3,4]) \n",
    "b = np.array([10,20,30,40]) \n",
    "c = a * b \n",
    "print (c)"
   ]
  },
  {
   "cell_type": "markdown",
   "id": "dbed3a08",
   "metadata": {},
   "source": [
    "Si les dimensions de deux tableaux sont dissemblables, les opérations d'élément à élément ne sont pas possibles. Cependant, les opérations sur des tableaux de formes non similaires sont toujours possibles dans NumPy, grâce à la capacité de diffusion. Le tableau le plus petit est diffusé à la taille du tableau le plus grand afin qu'ils aient des formes compatibles.\n",
    "\n",
    "La diffusion est possible si les règles suivantes sont respectées : \n",
    "    - Le tableau avec un ndim plus petit que le tableau avec un ndim plus grand.\n",
    "\n",
    "    - Le tableau ayant un ndim plus petit que l'autre est précédé de '1' dans sa forme.\n",
    "\n",
    "    - La taille dans chaque dimension de la forme de sortie est le maximum des tailles d'entrée dans cette dimension.\n",
    "\n",
    "    - Une entrée peut être utilisée dans le calcul, si sa taille dans une dimension particulière correspond à la taille de la sortie ou si sa valeur est exactement 1.\n",
    "\n",
    "    - Si une entrée a une dimension de 1, la première entrée de données dans cette dimension est utilisée pour tous les calculs dans cette dimension.\n",
    "\n",
    "    - On dit d'un ensemble de tableaux qu'il est diffusable si les règles ci-dessus produisent un résultat valide et si l'une des conditions suivantes est vraie\n",
    "\n",
    "    - Les tableaux ont exactement la même forme.\n",
    "\n",
    "    - Les tableaux ont le même nombre de dimensions et la longueur de chaque dimension est soit une longueur commune, soit 1.\n",
    "\n",
    "    - Un tableau ayant trop peu de dimensions peut voir sa forme précédée d'une dimension de longueur 1, de sorte que la propriété mentionnée ci-dessus soit vraie.\n",
    "\n",
    "Le programme suivant montre un exemple de diffusion :"
   ]
  },
  {
   "cell_type": "code",
   "execution_count": null,
   "id": "45e73885",
   "metadata": {},
   "outputs": [],
   "source": [
    "# Exemples\n",
    "import numpy as np \n",
    "a = np.array([[0.0,0.0,0.0],[10.0,10.0,10.0],[20.0,20.0,20.0],[30.0,30.0,30.0]]) \n",
    "b = np.array([1.0,2.0,3.0])  \n",
    "   \n",
    "print ('First array:') \n",
    "print( a) \n",
    "print ('\\n')  \n",
    "   \n",
    "print ('Second array:') \n",
    "print (b) \n",
    "print ('\\n')  \n",
    "   \n",
    "print ('First Array + Second Array') \n",
    "print( a + b)"
   ]
  },
  {
   "cell_type": "markdown",
   "id": "77b880f4",
   "metadata": {},
   "source": [
    "La figure suivante montre comment le tableau b est diffusé pour devenir compatible avec a.\n",
    "<img src=\"array.jpg\">"
   ]
  },
  {
   "cell_type": "markdown",
   "id": "e08023ac",
   "metadata": {},
   "source": [
    "### \n",
    "\n",
    "<div class=\"mui-col-md-6 tutorial-content\">\n",
    "<h1><font style=\"vertical-align: inherit;\"><font style=\"vertical-align: inherit;\">NumPy - Manipulation de tableau</font></font></h1>\n",
    "<hr>\n",
    "<div id=\"google-top-ads\">\n",
    "\n",
    "<br>\n",
    "<div class=\"clearer\"></div>\n",
    "<p><font style=\"vertical-align: inherit;\"><font style=\"vertical-align: inherit;\">Plusieurs routines sont disponibles dans le package NumPy pour la manipulation d'éléments dans l'objet ndarray. </font><font style=\"vertical-align: inherit;\">Ils peuvent être classés dans les types suivants -</font></font></p>\n",
    "<h2><font style=\"vertical-align: inherit;\"><font style=\"vertical-align: inherit;\">Changer de forme</font></font></h2>\n",
    "<table class=\"table table-bordered\">\n",
    "<tbody><tr>\n",
    "<th style=\"text-align:center; width:10%;\"><font style=\"vertical-align: inherit;\"><font style=\"vertical-align: inherit;\">Sr.No.</font></font></th>\n",
    "<th style=\"text-align:center;\"><font style=\"vertical-align: inherit;\"><font style=\"vertical-align: inherit;\">Forme et description</font></font></th>\n",
    "</tr>\n",
    "<tr>\n",
    "<td class=\"ts\"><font style=\"vertical-align: inherit;\"><font style=\"vertical-align: inherit;\">1</font></font></td>\n",
    "<td><a href=\"/numpy/numpy_reshape.htm\"><font style=\"vertical-align: inherit;\"><font style=\"vertical-align: inherit;\">remodeler</font></font></a>\n",
    "<p><font style=\"vertical-align: inherit;\"><font style=\"vertical-align: inherit;\">Donne une nouvelle forme à un tableau sans modifier ses données</font></font></p>\n",
    "</td>\n",
    "</tr>\n",
    "<tr>\n",
    "<td class=\"ts\"><font style=\"vertical-align: inherit;\"><font style=\"vertical-align: inherit;\">2</font></font></td>\n",
    "<td><a href=\"/numpy/numpy_ndarray_flat.htm\"><font style=\"vertical-align: inherit;\"><font style=\"vertical-align: inherit;\">plat</font></font></a>\n",
    "<p><font style=\"vertical-align: inherit;\"><font style=\"vertical-align: inherit;\">Un itérateur 1-D sur le tableau</font></font></p>\n",
    "</td>\n",
    "</tr>\n",
    "<tr>\n",
    "<td class=\"ts\"><font style=\"vertical-align: inherit;\"><font style=\"vertical-align: inherit;\">3</font></font></td>\n",
    "<td><a href=\"/numpy/numpy_ndarray_flatten.htm\"><font style=\"vertical-align: inherit;\"><font style=\"vertical-align: inherit;\">aplatir</font></font></a>\n",
    "<p><font style=\"vertical-align: inherit;\"><font style=\"vertical-align: inherit;\">Renvoie une copie du tableau réduit en une dimension</font></font></p>\n",
    "</td>\n",
    "</tr>\n",
    "<tr>\n",
    "<td class=\"ts\"><font style=\"vertical-align: inherit;\"><font style=\"vertical-align: inherit;\">4</font></font></td>\n",
    "<td><a href=\"/numpy/numpy_ndarray_ravel.htm\"><font style=\"vertical-align: inherit;\"><font style=\"vertical-align: inherit;\">effilochage</font></font></a>\n",
    "<p><font style=\"vertical-align: inherit;\"><font style=\"vertical-align: inherit;\">Renvoie un tableau aplati contigu</font></font></p>\n",
    "</td>\n",
    "</tr>\n",
    "</tbody></table>\n",
    "<h2><font style=\"vertical-align: inherit;\"><font style=\"vertical-align: inherit;\">Opérations de transposition</font></font></h2>\n",
    "<table class=\"table table-bordered\">\n",
    "<tbody><tr>\n",
    "<th style=\"text-align:center; width:10%;\"><font style=\"vertical-align: inherit;\"><font style=\"vertical-align: inherit;\">Sr.No.</font></font></th>\n",
    "<th style=\"text-align:center;\"><font style=\"vertical-align: inherit;\"><font style=\"vertical-align: inherit;\">Description d'opération</font></font></th>\n",
    "</tr>\n",
    "<tr>\n",
    "<td class=\"ts\"><font style=\"vertical-align: inherit;\"><font style=\"vertical-align: inherit;\">1</font></font></td>\n",
    "<td><a href=\"/numpy/numpy_transpose.htm\"><font style=\"vertical-align: inherit;\"><font style=\"vertical-align: inherit;\">transposer</font></font></a>\n",
    "<p><font style=\"vertical-align: inherit;\"><font style=\"vertical-align: inherit;\">Permute les dimensions d'un tableau</font></font></p>\n",
    "</td>\n",
    "</tr>\n",
    "<tr>\n",
    "<td class=\"ts\"><font style=\"vertical-align: inherit;\"><font style=\"vertical-align: inherit;\">2</font></font></td>\n",
    "<td><a href=\"/numpy/numpy_ndarray_t.htm\"><font style=\"vertical-align: inherit;\"><font style=\"vertical-align: inherit;\">ndarray.T</font></font></a>\n",
    "<p><font style=\"vertical-align: inherit;\"><font style=\"vertical-align: inherit;\">Identique à self.transpose()</font></font></p>\n",
    "</td>\n",
    "</tr>\n",
    "<tr>\n",
    "<td class=\"ts\"><font style=\"vertical-align: inherit;\"><font style=\"vertical-align: inherit;\">3</font></font></td>\n",
    "<td><a href=\"/numpy/numpy_rollaxis.htm\"><font style=\"vertical-align: inherit;\"><font style=\"vertical-align: inherit;\">axe de roulis</font></font></a>\n",
    "<p><font style=\"vertical-align: inherit;\"><font style=\"vertical-align: inherit;\">Fait reculer l'axe spécifié</font></font></p>\n",
    "</td>\n",
    "</tr>\n",
    "<tr>\n",
    "<td class=\"ts\"><font style=\"vertical-align: inherit;\"><font style=\"vertical-align: inherit;\">4</font></font></td>\n",
    "<td><a href=\"/numpy/numpy_swapaxes.htm\"><font style=\"vertical-align: inherit;\"><font style=\"vertical-align: inherit;\">swapaxes</font></font></a>\n",
    "<p>Interchanges the two axes of an array</p>\n",
    "</td>\n",
    "</tr>\n",
    "</tbody></table>\n",
    "<h2>Changing Dimensions</h2>\n",
    "<table class=\"table table-bordered\">\n",
    "<tbody><tr>\n",
    "<th style=\"text-align:center; width:10%;\">Sr.No.</th>\n",
    "<th style=\"text-align:center;\">Dimension &amp; Description</th>\n",
    "</tr>\n",
    "<tr>\n",
    "<td class=\"ts\">1</td>\n",
    "<td><a href=\"/numpy/numpy_broadcast.htm\">broadcast</a>\n",
    "<p>Produces an object that mimics broadcasting</p>\n",
    "</td>\n",
    "</tr>\n",
    "<tr>\n",
    "<td class=\"ts\">2</td>\n",
    "<td><a href=\"/numpy/numpy_broadcast_to.htm\">broadcast_to</a>\n",
    "<p>Broadcasts an array to a new shape</p>\n",
    "</td>\n",
    "</tr>\n",
    "<tr>\n",
    "<td class=\"ts\">3</td>\n",
    "<td><a href=\"/numpy/numpy_expand_dims.htm\">expand_dims</a>\n",
    "<p>Expands the shape of an array</p>\n",
    "</td>\n",
    "</tr>\n",
    "<tr>\n",
    "<td class=\"ts\">4</td>\n",
    "<td><a href=\"/numpy/numpy_squeeze.htm\">squeeze</a>\n",
    "<p>Removes single-dimensional entries from the shape of an array</p>\n",
    "</td>\n",
    "</tr>\n",
    "</tbody></table>\n",
    "<h2>Joining Arrays</h2>\n",
    "<table class=\"table table-bordered\">\n",
    "<tbody><tr>\n",
    "<th style=\"text-align:center; width:10%;\">Sr.No.</th>\n",
    "<th style=\"text-align:center;\">Array &amp; Description</th>\n",
    "</tr>\n",
    "<tr>\n",
    "<td class=\"ts\">1</td>\n",
    "<td><a href=\"/numpy/numpy_concatenate.htm\">concatenate</a>\n",
    "<p>Joins a sequence of arrays along an existing axis</p>\n",
    "</td>\n",
    "</tr>\n",
    "<tr>\n",
    "<td class=\"ts\">2</td>\n",
    "<td><a href=\"/numpy/numpy_stack.htm\">stack</a>\n",
    "<p>Joins a sequence of arrays along a new axis</p>\n",
    "</td>\n",
    "</tr>\n",
    "<tr>\n",
    "<td class=\"ts\">3</td>\n",
    "<td><a href=\"/numpy/numpy_hstack.htm\">hstack</a>\n",
    "<p>Stacks arrays in sequence horizontally (column wise)</p>\n",
    "</td>\n",
    "</tr>\n",
    "<tr>\n",
    "<td class=\"ts\">4</td>\n",
    "<td><a href=\"/numpy/numpy_vstack.htm\">vstack</a>\n",
    "<p>Stacks arrays in sequence vertically (row wise)</p>\n",
    "</td>\n",
    "</tr>\n",
    "</tbody></table>\n",
    "<h2>Splitting Arrays</h2>\n",
    "<table class=\"table table-bordered\">\n",
    "<tbody><tr>\n",
    "<th style=\"text-align:center; width:10%;\">Sr.No.</th>\n",
    "<th style=\"text-align:center;\">Array &amp; Description</th>\n",
    "</tr>\n",
    "<tr>\n",
    "<td class=\"ts\">1</td>\n",
    "<td><a href=\"/numpy/numpy_split.htm\">split</a>\n",
    "<p>Splits an array into multiple sub-arrays</p>\n",
    "</td>\n",
    "</tr>\n",
    "<tr>\n",
    "<td class=\"ts\">2</td>\n",
    "<td><a href=\"/numpy/numpy_hsplit.htm\">hsplit</a>\n",
    "<p>Splits an array into multiple sub-arrays horizontally (column-wise)</p>\n",
    "</td>\n",
    "</tr>\n",
    "<tr>\n",
    "<td class=\"ts\">3</td>\n",
    "<td><a href=\"/numpy/numpy_vsplit.htm\">vsplit</a>\n",
    "<p>Splits an array into multiple sub-arrays vertically (row-wise)</p>\n",
    "</td>\n",
    "</tr>\n",
    "</tbody></table>\n",
    "<h2>Adding / Removing Elements</h2>\n",
    "<table class=\"table table-bordered\">\n",
    "<tbody><tr>\n",
    "<th style=\"text-align:center; width:10%;\">Sr.No.</th>\n",
    "<th style=\"text-align:center;\">Element &amp; Description</th>\n",
    "</tr>\n",
    "<tr>\n",
    "<td class=\"ts\">1</td>\n",
    "<td><a href=\"/numpy/numpy_resize.htm\">resize</a>\n",
    "<p>Returns a new array with the specified shape</p>\n",
    "</td>\n",
    "</tr>\n",
    "<tr>\n",
    "<td class=\"ts\">2</td>\n",
    "<td><a href=\"/numpy/numpy_append.htm\"><font style=\"vertical-align: inherit;\"><font style=\"vertical-align: inherit;\">ajouter</font></font></a>\n",
    "<p><font style=\"vertical-align: inherit;\"><font style=\"vertical-align: inherit;\">Ajoute les valeurs à la fin d'un tableau</font></font></p>\n",
    "</td>\n",
    "</tr>\n",
    "<tr>\n",
    "<td class=\"ts\"><font style=\"vertical-align: inherit;\"><font style=\"vertical-align: inherit;\">3</font></font></td>\n",
    "<td><a href=\"/numpy/numpy_insert.htm\"><font style=\"vertical-align: inherit;\"><font style=\"vertical-align: inherit;\">insérer</font></font></a>\n",
    "<p><font style=\"vertical-align: inherit;\"><font style=\"vertical-align: inherit;\">Insère les valeurs le long de l'axe donné avant les indices donnés</font></font></p>\n",
    "</td>\n",
    "</tr>\n",
    "<tr>\n",
    "<td class=\"ts\"><font style=\"vertical-align: inherit;\"><font style=\"vertical-align: inherit;\">4</font></font></td>\n",
    "<td><a href=\"/numpy/numpy_delete.htm\"><font style=\"vertical-align: inherit;\"><font style=\"vertical-align: inherit;\">effacer</font></font></a>\n",
    "<p><font style=\"vertical-align: inherit;\"><font style=\"vertical-align: inherit;\">Renvoie un nouveau tableau avec des sous-tableaux le long d'un axe supprimés</font></font></p>\n",
    "</td>\n",
    "</tr>\n",
    "<tr>\n",
    "<td class=\"ts\"><font style=\"vertical-align: inherit;\"><font style=\"vertical-align: inherit;\">5</font></font></td>\n",
    "<td><a href=\"/numpy/numpy_unique.htm\"><font style=\"vertical-align: inherit;\"><font style=\"vertical-align: inherit;\">unique</font></font></a>\n",
    "<p><font style=\"vertical-align: inherit;\"><font style=\"vertical-align: inherit;\">Trouve les éléments uniques d'un tableau</font></font></p>\n",
    "</td>\n",
    "</tr>\n",
    "</tbody></table>\n"
   ]
  },
  {
   "cell_type": "markdown",
   "id": "81e0977a",
   "metadata": {},
   "source": [
    "###  NumPy - Mathematical Functions\n",
    "Tout à fait compréhensible, NumPy contient un grand nombre d'opérations mathématiques diverses. NumPy fournit des fonctions trigonométriques standard, des fonctions pour les opérations arithmétiques, la gestion des nombres complexes, etc.\n",
    "\n",
    "#### Fonctions trigonométriques\n",
    "NumPy a des fonctions trigonométriques standard qui renvoient des rapports trigonométriques pour un angle donné en radians."
   ]
  },
  {
   "cell_type": "code",
   "execution_count": null,
   "id": "64b8ba1d",
   "metadata": {},
   "outputs": [],
   "source": [
    "# Exemples \n",
    "import numpy as np \n",
    "a = np.array([0,30,45,60,90]) \n",
    "\n",
    "print ('Sine of different angles:') \n",
    "# Convert to radians by multiplying with pi/180 \n",
    "print (np.sin(a*np.pi/180)) \n",
    "print ('\\n')  \n",
    "\n",
    "print ('Cosine values for angles in array:') \n",
    "print (np.cos(a*np.pi/180)) \n",
    "print ('\\n')\n",
    "\n",
    "print ('Tangent values for given angles:') \n",
    "print (np.tan(a*np.pi/180)) "
   ]
  },
  {
   "cell_type": "markdown",
   "id": "0147e041",
   "metadata": {},
   "source": [
    "Les fonctions arcsin, arcos et arctan renvoient l'inverse trigonométrique de sin, cos et tan de l'angle donné. Le résultat de ces fonctions peut être vérifié par la fonction numpy.degrees() en convertissant les radians en degrés.\n",
    "\n",
    "#### Fonctions d'arrondi\n",
    "numpy.around()\n",
    "Il s'agit d'une fonction qui renvoie la valeur arrondie à la précision souhaitée. La fonction prend les paramètres suivants.\n"
   ]
  },
  {
   "cell_type": "code",
   "execution_count": null,
   "id": "645b533b",
   "metadata": {},
   "outputs": [],
   "source": [
    "numpy.around(a,decimals)\n",
    "# decimals - Le nombre de décimales à arrondir. La valeur par défaut est 0. S'il est négatif, l'entier est arrondi pour se placer à gauche de la virgule décimale"
   ]
  },
  {
   "cell_type": "code",
   "execution_count": null,
   "id": "ffce66af",
   "metadata": {},
   "outputs": [],
   "source": [
    "# Exemple\n",
    "import numpy as np \n",
    "a = np.array([1.0,5.55, 123, 0.567, 25.532]) \n",
    "\n",
    "print ('Original array:') \n",
    "print(a)\n",
    "print ('\\n')  \n",
    "\n",
    "print ('After rounding:') \n",
    "print( np.around(a)) \n",
    "print( np.around(a, decimals = 1) )\n",
    "print (np.around(a, decimals = -1))"
   ]
  },
  {
   "cell_type": "markdown",
   "id": "affe0546",
   "metadata": {},
   "source": [
    "#### numpy.floor()\n",
    "Cette fonction renvoie le plus grand entier non supérieur au paramètre d'entrée. Le plancher du scalaire x est le plus grand entier i , tel que i <= x . Notez qu'en Python, le revêtement de sol est toujours arrondi à 0."
   ]
  },
  {
   "cell_type": "code",
   "execution_count": 204,
   "id": "531f2d1f",
   "metadata": {},
   "outputs": [
    {
     "name": "stdout",
     "output_type": "stream",
     "text": [
      "The given array:\n",
      "[-1.7  1.5 -0.2  0.6 10. ]\n",
      "\n",
      "\n",
      "The modified array:\n",
      "[-2.  1. -1.  0. 10.]\n"
     ]
    }
   ],
   "source": [
    "# Exemples \n",
    "import numpy as np \n",
    "a = np.array([-1.7, 1.5, -0.2, 0.6, 10]) \n",
    "\n",
    "print( 'The given array:') \n",
    "print(a)\n",
    "print ('\\n' ) \n",
    "\n",
    "print ('The modified array:') \n",
    "print (np.floor(a))"
   ]
  },
  {
   "cell_type": "markdown",
   "id": "81a379ec",
   "metadata": {},
   "source": [
    "#### numpy.ceil()\n",
    "La fonction ceil() renvoie le plafond d'une valeur d'entrée, c'est-à-dire que le plafond du scalaire x est le plus petit entier i , tel que i >= x.\n",
    "\n",
    "Exemple"
   ]
  },
  {
   "cell_type": "code",
   "execution_count": 205,
   "id": "3188f73f",
   "metadata": {},
   "outputs": [
    {
     "name": "stdout",
     "output_type": "stream",
     "text": [
      "The given array:\n",
      "[-1.7  1.5 -0.2  0.6 10. ]\n",
      "\n",
      "\n",
      "The modified array:\n",
      "[-1.  2. -0.  1. 10.]\n"
     ]
    }
   ],
   "source": [
    "import numpy as np \n",
    "a = np.array([-1.7, 1.5, -0.2, 0.6, 10]) \n",
    "\n",
    "print ('The given array:') \n",
    "print( a) \n",
    "print ('\\n' ) \n",
    "\n",
    "print ('The modified array:') \n",
    "print (np.ceil(a))"
   ]
  },
  {
   "cell_type": "markdown",
   "id": "bcb56018",
   "metadata": {},
   "source": [
    "<div class=\"mui-col-md-6 tutorial-content\">\n",
    "<h1><font style=\"vertical-align: inherit;\"><font style=\"vertical-align: inherit;\">NumPy - Opérations arithmétiques</font></font></h1>\n",
    "<hr>\n",
    "<div class=\"clearer\"></div>\n",
    "<p><font style=\"vertical-align: inherit;\"><font style=\"vertical-align: inherit;\">Les tableaux d'entrée pour effectuer des opérations arithmétiques telles que ajouter(), soustraire(), multiplier() et diviser() doivent avoir la même forme ou doivent être conformes aux règles de diffusion des tableaux.</font></font></p>\n",
    "<h3><font style=\"vertical-align: inherit;\"><font style=\"vertical-align: inherit;\">Exemple</font></font></h3>"
   ]
  },
  {
   "cell_type": "code",
   "execution_count": 206,
   "id": "67d22633",
   "metadata": {},
   "outputs": [
    {
     "name": "stdout",
     "output_type": "stream",
     "text": [
      "First array:\n",
      "[[0. 1. 2.]\n",
      " [3. 4. 5.]\n",
      " [6. 7. 8.]]\n",
      "\n",
      "\n",
      "Second array:\n",
      "[10 10 10]\n",
      "\n",
      "\n",
      "Add the two arrays:\n",
      "[[10. 11. 12.]\n",
      " [13. 14. 15.]\n",
      " [16. 17. 18.]]\n",
      "\n",
      "\n",
      "Subtract the two arrays:\n",
      "[[-10.  -9.  -8.]\n",
      " [ -7.  -6.  -5.]\n",
      " [ -4.  -3.  -2.]]\n",
      "\n",
      "\n",
      "Multiply the two arrays:\n",
      "[[ 0. 10. 20.]\n",
      " [30. 40. 50.]\n",
      " [60. 70. 80.]]\n",
      "\n",
      "\n",
      "Divide the two arrays:\n",
      "[[0.  0.1 0.2]\n",
      " [0.3 0.4 0.5]\n",
      " [0.6 0.7 0.8]]\n"
     ]
    }
   ],
   "source": [
    "import numpy as np \n",
    "a = np.arange(9, dtype = np.float_).reshape(3,3) \n",
    "\n",
    "print ('First array:' )\n",
    "print (a) \n",
    "print ('\\n')  \n",
    "\n",
    "print ('Second array:') \n",
    "b = np.array([10,10,10]) \n",
    "print( b) \n",
    "print ('\\n' ) \n",
    "\n",
    "print ('Add the two arrays:') \n",
    "print (np.add(a,b)) \n",
    "print ('\\n')  \n",
    "\n",
    "print ('Subtract the two arrays:' )\n",
    "print (np.subtract(a,b) )\n",
    "print ('\\n' ) \n",
    "\n",
    "print ('Multiply the two arrays:' )\n",
    "print (np.multiply(a,b) )\n",
    "print ('\\n')  \n",
    "\n",
    "print ('Divide the two arrays:') \n",
    "print (np.divide(a,b))"
   ]
  },
  {
   "cell_type": "markdown",
   "id": "b36562f3",
   "metadata": {},
   "source": [
    "<p><font style=\"vertical-align: inherit;\"><font style=\"vertical-align: inherit;\">Voyons maintenant quelques-unes des autres fonctions arithmétiques importantes disponibles dans NumPy.</font></font></p>\n",
    "<h2><font style=\"vertical-align: inherit;\"><font style=\"vertical-align: inherit;\">numpy.reciprocal()</font></font></h2>\n",
    "<p><font style=\"vertical-align: inherit;\"><font style=\"vertical-align: inherit;\">Cette fonction renvoie l'inverse de l'argument, élément par élément. </font><font style=\"vertical-align: inherit;\">Pour les éléments dont les valeurs absolues sont supérieures à 1, le résultat est toujours 0 en raison de la manière dont Python gère la division entière. </font><font style=\"vertical-align: inherit;\">Pour l'entier 0, un avertissement de débordement est émis.</font></font></p>\n",
    "<h3><font style=\"vertical-align: inherit;\"><font style=\"vertical-align: inherit;\">Exemple</font></font></h3>\n"
   ]
  },
  {
   "cell_type": "code",
   "execution_count": 207,
   "id": "aef28c33",
   "metadata": {},
   "outputs": [
    {
     "name": "stdout",
     "output_type": "stream",
     "text": [
      "Our array is:\n",
      "[  0.25   1.33   1.     0.   100.  ]\n",
      "\n",
      "\n",
      "After applying reciprocal function:\n",
      "[4.        0.7518797 1.              inf 0.01     ]\n",
      "\n",
      "\n",
      "The second array is:\n",
      "[100]\n",
      "\n",
      "\n",
      "After applying reciprocal function:\n",
      "[0]\n"
     ]
    },
    {
     "name": "stderr",
     "output_type": "stream",
     "text": [
      "<ipython-input-207-17687b4fb082>:9: RuntimeWarning: divide by zero encountered in reciprocal\n",
      "  print (np.reciprocal(a) )\n"
     ]
    }
   ],
   "source": [
    "import numpy as np \n",
    "a = np.array([0.25, 1.33, 1, 0, 100]) \n",
    "\n",
    "print ('Our array is:' )\n",
    "print (a )\n",
    "print ('\\n'  )\n",
    "\n",
    "print ('After applying reciprocal function:' )\n",
    "print (np.reciprocal(a) )\n",
    "print ('\\n')  \n",
    "\n",
    "b = np.array([100], dtype = int) \n",
    "print ('The second array is:' )\n",
    "print (b) \n",
    "print ('\\n')  \n",
    "\n",
    "print ('After applying reciprocal function:') \n",
    "print( np.reciprocal(b) )"
   ]
  },
  {
   "cell_type": "markdown",
   "id": "6b5edea9",
   "metadata": {},
   "source": [
    "<h2><font style=\"vertical-align: inherit;\"><font style=\"vertical-align: inherit;\">numpy.power()</font></font></h2><p><font style=\"vertical-align: inherit;\"><font style=\"vertical-align: inherit;\">Cette fonction traite les éléments du premier tableau d'entrée comme une base et le renvoie à la puissance de l'élément correspondant du deuxième tableau d'entrée.</font></font></p>\n"
   ]
  },
  {
   "cell_type": "code",
   "execution_count": 208,
   "id": "629e54db",
   "metadata": {},
   "outputs": [
    {
     "name": "stdout",
     "output_type": "stream",
     "text": [
      "Our array is:\n",
      "[  10  100 1000]\n",
      "\n",
      "\n",
      "Applying power function:\n",
      "[    100   10000 1000000]\n",
      "\n",
      "\n",
      "Second array:\n",
      "[1 2 3]\n",
      "\n",
      "\n",
      "Applying power function again:\n",
      "[        10      10000 1000000000]\n"
     ]
    }
   ],
   "source": [
    "import numpy as np \n",
    "a = np.array([10,100,1000]) \n",
    "\n",
    "print ('Our array is:' )\n",
    "print (a )\n",
    "print ('\\n'  )\n",
    "\n",
    "print ('Applying power function:' )\n",
    "print (np.power(a,2)) \n",
    "print ('\\n')  \n",
    "\n",
    "print ('Second array:') \n",
    "b = np.array([1,2,3]) \n",
    "print (b) \n",
    "print ('\\n')  \n",
    "\n",
    "print ('Applying power function again:') \n",
    "print (np.power(a,b))"
   ]
  },
  {
   "cell_type": "markdown",
   "id": "8b9b0844",
   "metadata": {},
   "source": [
    "<h2><font style=\"vertical-align: inherit;\"><font style=\"vertical-align: inherit;\">numpy.mod()</font></font></h2><p><font style=\"vertical-align: inherit;\"><font style=\"vertical-align: inherit;\">Cette fonction renvoie le reste de la division des éléments correspondants dans le tableau d'entrée. </font><font style=\"vertical-align: inherit;\">La fonction </font></font><b><font style=\"vertical-align: inherit;\"><font style=\"vertical-align: inherit;\">numpy.remainder()</font></font></b><font style=\"vertical-align: inherit;\"><font style=\"vertical-align: inherit;\"> produit également le même résultat.</font></font></p"
   ]
  },
  {
   "cell_type": "code",
   "execution_count": 209,
   "id": "12c78753",
   "metadata": {},
   "outputs": [
    {
     "name": "stdout",
     "output_type": "stream",
     "text": [
      "First array:\n",
      "[10 20 30]\n",
      "\n",
      "\n",
      "Second array:\n",
      "[3 5 7]\n",
      "\n",
      "\n",
      "Applying mod() function:\n",
      "[1 0 2]\n",
      "\n",
      "\n",
      "Applying remainder() function:\n",
      "[1 0 2]\n"
     ]
    }
   ],
   "source": [
    "import numpy as np \n",
    "a = np.array([10,20,30]) \n",
    "b = np.array([3,5,7]) \n",
    "\n",
    "print ('First array:') \n",
    "print (a) \n",
    "print ('\\n')  \n",
    "\n",
    "print ('Second array:') \n",
    "print (b) \n",
    "print ('\\n')  \n",
    "\n",
    "print ('Applying mod() function:') \n",
    "print (np.mod(a,b) )\n",
    "print ('\\n')  \n",
    "\n",
    "print ('Applying remainder() function:') \n",
    "print (np.remainder(a,b)) "
   ]
  },
  {
   "cell_type": "markdown",
   "id": "8b8bd8d2",
   "metadata": {},
   "source": [
    "<p><font style=\"vertical-align: inherit;\"><font style=\"vertical-align: inherit;\">Les fonctions suivantes sont utilisées pour effectuer des opérations sur un tableau avec des nombres complexes.</font></font></p>\n",
    "<ul class=\"list\">\n",
    "<li><p><b><font style=\"vertical-align: inherit;\"><font style=\"vertical-align: inherit;\">numpy.real()</font></font></b><font style=\"vertical-align: inherit;\"><font style=\"vertical-align: inherit;\"> - renvoie la partie réelle de l'argument de type de données complexe.</font></font></p></li>\n",
    "<li><p><b><font style=\"vertical-align: inherit;\"><font style=\"vertical-align: inherit;\">numpy.imag()</font></font></b><font style=\"vertical-align: inherit;\"><font style=\"vertical-align: inherit;\"> - renvoie la partie imaginaire de l'argument de type de données complexe.</font></font></p></li>\n",
    "<li><p><b><font style=\"vertical-align: inherit;\"><font style=\"vertical-align: inherit;\">numpy.conj()</font></font></b><font style=\"vertical-align: inherit;\"><font style=\"vertical-align: inherit;\"> − renvoie le conjugué complexe, qui est obtenu en changeant le signe de la partie imaginaire.</font></font></p></li>\n",
    "<li><p><b><font style=\"vertical-align: inherit;\"><font style=\"vertical-align: inherit;\">numpy.angle()</font></font></b><font style=\"vertical-align: inherit;\"><font style=\"vertical-align: inherit;\"> − renvoie l'angle de l'argument complexe. </font><font style=\"vertical-align: inherit;\">La fonction a un paramètre de degré. </font><font style=\"vertical-align: inherit;\">Si vrai, l'angle en degré est renvoyé, sinon l'angle est en radians.</font></font></p></li>\n",
    "</ul>"
   ]
  },
  {
   "cell_type": "code",
   "execution_count": 210,
   "id": "eddab25e",
   "metadata": {},
   "outputs": [
    {
     "name": "stdout",
     "output_type": "stream",
     "text": [
      "Our array is:\n",
      "[-0.-5.6j  0.+0.2j 11.+0.j   1.+1.j ]\n",
      "\n",
      "\n",
      "Applying real() function:\n",
      "[-0.  0. 11.  1.]\n",
      "\n",
      "\n",
      "Applying imag() function:\n",
      "[-5.6  0.2  0.   1. ]\n",
      "\n",
      "\n",
      "Applying conj() function:\n",
      "[-0.+5.6j  0.-0.2j 11.-0.j   1.-1.j ]\n",
      "\n",
      "\n",
      "Applying angle() function:\n",
      "[-1.57079633  1.57079633  0.          0.78539816]\n",
      "\n",
      "\n",
      "Applying angle() function again (result in degrees)\n",
      "[-90.  90.   0.  45.]\n"
     ]
    }
   ],
   "source": [
    "import numpy as np \n",
    "a = np.array([-5.6j, 0.2j, 11. , 1+1j]) \n",
    "\n",
    "print ('Our array is:') \n",
    "print( a) \n",
    "print ('\\n')  \n",
    "\n",
    "print ('Applying real() function:') \n",
    "print (np.real(a) )\n",
    "print ('\\n')  \n",
    "\n",
    "print ('Applying imag() function:') \n",
    "print (np.imag(a)) \n",
    "print ('\\n' ) \n",
    "\n",
    "print ('Applying conj() function:') \n",
    "print (np.conj(a)) \n",
    "print ('\\n')  \n",
    "\n",
    "print ('Applying angle() function:') \n",
    "print (np.angle(a)) \n",
    "print ('\\n')  \n",
    "\n",
    "print ('Applying angle() function again (result in degrees)') \n",
    "print( np.angle(a, deg = True))"
   ]
  },
  {
   "cell_type": "markdown",
   "id": "4001b1fd",
   "metadata": {},
   "source": [
    "<div class=\"mui-col-md-6 tutorial-content\">\n",
    "<h1><font style=\"vertical-align: inherit;\"><font style=\"vertical-align: inherit;\">NumPy - Fonctions statistiques</font></font></h1>\n",
    "\n",
    "<p><font style=\"vertical-align: inherit;\"><font style=\"vertical-align: inherit;\">NumPy a quelques fonctions statistiques utiles pour trouver l'écart type et la variance minimum, maximum, percentile, etc. à partir des éléments donnés dans le tableau. </font><font style=\"vertical-align: inherit;\">Les fonctions sont expliquées comme suit −</font></font></p>\n",
    "<h2><font style=\"vertical-align: inherit;\"><font style=\"vertical-align: inherit;\">numpy.amin() et numpy.amax()</font></font></h2>\n",
    "<p><font style=\"vertical-align: inherit;\"><font style=\"vertical-align: inherit;\">Ces fonctions renvoient le minimum et le maximum des éléments du tableau donné le long de l'axe spécifié.</font></font></p>\n",
    "<h3><font style=\"vertical-align: inherit;\"><font style=\"vertical-align: inherit;\">Exemple</font></font></h3>"
   ]
  },
  {
   "cell_type": "code",
   "execution_count": 211,
   "id": "74aad023",
   "metadata": {},
   "outputs": [
    {
     "name": "stdout",
     "output_type": "stream",
     "text": [
      "Our array is:\n",
      "[[3 7 5]\n",
      " [8 4 3]\n",
      " [2 4 9]]\n",
      "\n",
      "\n",
      "Applying amin() function:\n",
      "[3 3 2]\n",
      "\n",
      "\n",
      "Applying amin() function again:\n",
      "[2 4 3]\n",
      "\n",
      "\n",
      "Applying amax() function:\n",
      "9\n",
      "\n",
      "\n",
      "Applying amax() function again:\n",
      "[8 7 9]\n"
     ]
    }
   ],
   "source": [
    "import numpy as np \n",
    "a = np.array([[3,7,5],[8,4,3],[2,4,9]]) \n",
    "\n",
    "print ('Our array is:') \n",
    "print( a ) \n",
    "print ('\\n')  \n",
    "\n",
    "print ('Applying amin() function:' )\n",
    "print (np.amin(a,1)) \n",
    "print ('\\n')  \n",
    "\n",
    "print ('Applying amin() function again:' )\n",
    "print (np.amin(a,0)) \n",
    "print ('\\n')  \n",
    "\n",
    "print ('Applying amax() function:') \n",
    "print (np.amax(a)) \n",
    "print ('\\n')  \n",
    "\n",
    "print ('Applying amax() function again:') \n",
    "print (np.amax(a, axis = 0))"
   ]
  },
  {
   "cell_type": "markdown",
   "id": "18932ae1",
   "metadata": {},
   "source": [
    "<h2><font style=\"vertical-align: inherit;\"><font style=\"vertical-align: inherit;\">numpy.ptp()</font></font></h2>\n",
    "<p><font style=\"vertical-align: inherit;\"><font style=\"vertical-align: inherit;\">La fonction </font></font><b><font style=\"vertical-align: inherit;\"><font style=\"vertical-align: inherit;\">numpy.ptp()</font></font></b><font style=\"vertical-align: inherit;\"><font style=\"vertical-align: inherit;\"> renvoie la plage (maximum-minimum) de valeurs le long d'un axe.</font></font></p>"
   ]
  },
  {
   "cell_type": "code",
   "execution_count": 212,
   "id": "e993c8a6",
   "metadata": {},
   "outputs": [
    {
     "name": "stdout",
     "output_type": "stream",
     "text": [
      "Our array is:\n",
      "[[3 7 5]\n",
      " [8 4 3]\n",
      " [2 4 9]]\n",
      "\n",
      "\n",
      "Applying ptp() function:\n",
      "7\n",
      "\n",
      "\n",
      "Applying ptp() function along axis 1:\n",
      "[4 5 7]\n",
      "\n",
      "\n",
      "Applying ptp() function along axis 0:\n",
      "[6 3 6]\n"
     ]
    }
   ],
   "source": [
    "import numpy as np \n",
    "a = np.array([[3,7,5],[8,4,3],[2,4,9]]) \n",
    "\n",
    "print ('Our array is:') \n",
    "print( a )\n",
    "print ('\\n')  \n",
    "\n",
    "print ('Applying ptp() function:') \n",
    "print (np.ptp(a)) \n",
    "print ('\\n')  \n",
    "\n",
    "print ('Applying ptp() function along axis 1:') \n",
    "print (np.ptp(a, axis = 1)) \n",
    "print ('\\n')   \n",
    "\n",
    "print ('Applying ptp() function along axis 0:')\n",
    "print (np.ptp(a, axis = 0) )"
   ]
  },
  {
   "cell_type": "markdown",
   "id": "ef59cd87",
   "metadata": {},
   "source": [
    "<h2><font style=\"vertical-align: inherit;\"><font style=\"vertical-align: inherit;\">numpy.percentile()</font></font></h2>\n",
    "<p><font style=\"vertical-align: inherit;\"><font style=\"vertical-align: inherit;\">Le centile (ou un centile) est une mesure utilisée dans les statistiques indiquant la valeur en dessous de laquelle tombe un pourcentage donné d'observations dans un groupe d'observations. </font><font style=\"vertical-align: inherit;\">La fonction </font></font><b><font style=\"vertical-align: inherit;\"><font style=\"vertical-align: inherit;\">numpy.percentile()</font></font></b><font style=\"vertical-align: inherit;\"><font style=\"vertical-align: inherit;\"> prend les arguments suivants.</font></font></p>\n",
    "<pre class=\"result notranslate\">numpy.percentile(a, q, axis)\n",
    "</pre>\n",
    "<p><font style=\"vertical-align: inherit;\"><font style=\"vertical-align: inherit;\">Où,</font></font></p>\n",
    "<table class=\"table table-bordered\">\n",
    "<tbody><tr>\n",
    "<th style=\"text-align:center;width:10%\"><font style=\"vertical-align: inherit;\"><font style=\"vertical-align: inherit;\">Sr.No.</font></font></th>\n",
    "<th style=\"text-align:center;\"><font style=\"vertical-align: inherit;\"><font style=\"vertical-align: inherit;\">Argument &amp; Description</font></font></th>\n",
    "</tr>\n",
    "<tr>\n",
    "<td class=\"ts\"><font style=\"vertical-align: inherit;\"><font style=\"vertical-align: inherit;\">1</font></font></td>\n",
    "<td><p><b><font style=\"vertical-align: inherit;\"><font style=\"vertical-align: inherit;\">une</font></font></b></p>\n",
    "<p><font style=\"vertical-align: inherit;\"><font style=\"vertical-align: inherit;\">Tableau d'entrée</font></font></p>\n",
    "</td>\n",
    "</tr>\n",
    "<tr>\n",
    "<td class=\"ts\"><font style=\"vertical-align: inherit;\"><font style=\"vertical-align: inherit;\">2</font></font></td>\n",
    "<td><p><b><font style=\"vertical-align: inherit;\"><font style=\"vertical-align: inherit;\">q</font></font></b></p>\n",
    "<p><font style=\"vertical-align: inherit;\"><font style=\"vertical-align: inherit;\">Le centile à calculer doit être compris entre 0 et 100</font></font></p>\n",
    "</td>\n",
    "</tr>\n",
    "<tr>\n",
    "<td class=\"ts\"><font style=\"vertical-align: inherit;\"><font style=\"vertical-align: inherit;\">3</font></font></td>\n",
    "<td><p><b><font style=\"vertical-align: inherit;\"><font style=\"vertical-align: inherit;\">axe</font></font></b></p>\n",
    "<p><font style=\"vertical-align: inherit;\"><font style=\"vertical-align: inherit;\">L'axe le long duquel le centile doit être calculé</font></font></p>\n",
    "</td>\n",
    "</tr>\n",
    "</tbody></table>\n",
    "<h3><font style=\"vertical-align: inherit;\"><font style=\"vertical-align: inherit;\">Exemple</font></font></h3>\n"
   ]
  },
  {
   "cell_type": "code",
   "execution_count": 213,
   "id": "05a4ad76",
   "metadata": {},
   "outputs": [
    {
     "name": "stdout",
     "output_type": "stream",
     "text": [
      "Our array is:\n",
      "[[30 40 70]\n",
      " [80 20 10]\n",
      " [50 90 60]]\n",
      "\n",
      "\n",
      "Applying percentile() function:\n",
      "50.0\n",
      "\n",
      "\n",
      "Applying percentile() function along axis 1:\n",
      "[40. 20. 60.]\n",
      "\n",
      "\n",
      "Applying percentile() function along axis 0:\n",
      "[50. 40. 60.]\n"
     ]
    }
   ],
   "source": [
    "import numpy as np \n",
    "a = np.array([[30,40,70],[80,20,10],[50,90,60]]) \n",
    "\n",
    "print ('Our array is:' )\n",
    "print (a )\n",
    "print( '\\n' ) \n",
    "\n",
    "print ('Applying percentile() function:') \n",
    "print (np.percentile(a,50)) \n",
    "print ('\\n')  \n",
    "\n",
    "print ('Applying percentile() function along axis 1:') \n",
    "print (np.percentile(a,50, axis = 1)) \n",
    "print ('\\n')  \n",
    "\n",
    "print ('Applying percentile() function along axis 0:') \n",
    "print (np.percentile(a,50, axis = 0))"
   ]
  },
  {
   "cell_type": "markdown",
   "id": "a9baf5bb",
   "metadata": {},
   "source": [
    "<h2><font style=\"vertical-align: inherit;\"><font style=\"vertical-align: inherit;\">numpy.median()</font></font></h2>\n",
    "<p><b><font style=\"vertical-align: inherit;\"><font style=\"vertical-align: inherit;\">La médiane</font></font></b><font style=\"vertical-align: inherit;\"><font style=\"vertical-align: inherit;\"> est définie comme la valeur séparant la moitié supérieure d'un échantillon de données de la moitié inférieure. </font><font style=\"vertical-align: inherit;\">La fonction </font></font><b><font style=\"vertical-align: inherit;\"><font style=\"vertical-align: inherit;\">numpy.median()</font></font></b><font style=\"vertical-align: inherit;\"><font style=\"vertical-align: inherit;\"> est utilisée comme indiqué dans le programme suivant.</font></font></p>\n",
    "<h3><font style=\"vertical-align: inherit;\"><font style=\"vertical-align: inherit;\">Exemple</font></font></h3>"
   ]
  },
  {
   "cell_type": "code",
   "execution_count": 214,
   "id": "35557ac3",
   "metadata": {},
   "outputs": [
    {
     "name": "stdout",
     "output_type": "stream",
     "text": [
      "Our array is:\n",
      "[[30 65 70]\n",
      " [80 95 10]\n",
      " [50 90 60]]\n",
      "\n",
      "\n",
      "Applying median() function:\n",
      "65.0\n",
      "\n",
      "\n",
      "Applying median() function along axis 0:\n",
      "[50. 90. 60.]\n",
      "\n",
      "\n",
      "Applying median() function along axis 1:\n",
      "[65. 80. 60.]\n"
     ]
    }
   ],
   "source": [
    "import numpy as np \n",
    "a = np.array([[30,65,70],[80,95,10],[50,90,60]]) \n",
    "\n",
    "print ('Our array is:' )\n",
    "print( a )\n",
    "print ('\\n'  )\n",
    "\n",
    "print ('Applying median() function:' )\n",
    "print (np.median(a) )\n",
    "print ('\\n'  )\n",
    "\n",
    "print ('Applying median() function along axis 0:' )\n",
    "print (np.median(a, axis = 0) )\n",
    "print ('\\n')  \n",
    " \n",
    "print ('Applying median() function along axis 1:') \n",
    "print (np.median(a, axis = 1))"
   ]
  },
  {
   "cell_type": "markdown",
   "id": "13fbf43c",
   "metadata": {},
   "source": [
    "<h2><font style=\"vertical-align: inherit;\"><font style=\"vertical-align: inherit;\">numpy.mean()</font></font></h2>\n",
    "<p><font style=\"vertical-align: inherit;\"><font style=\"vertical-align: inherit;\">La moyenne arithmétique est la somme des éléments le long d'un axe divisée par le nombre d'éléments. </font><font style=\"vertical-align: inherit;\">La fonction </font></font><b><font style=\"vertical-align: inherit;\"><font style=\"vertical-align: inherit;\">numpy.mean()</font></font></b><font style=\"vertical-align: inherit;\"><font style=\"vertical-align: inherit;\"> renvoie la moyenne arithmétique des éléments du tableau. </font><font style=\"vertical-align: inherit;\">Si l'axe est mentionné, il est calculé le long de celui-ci.</font></font></p>\n",
    "<h3><font style=\"vertical-align: inherit;\"><font style=\"vertical-align: inherit;\">Exemple</font></font></h3>"
   ]
  },
  {
   "cell_type": "code",
   "execution_count": 215,
   "id": "c4976273",
   "metadata": {},
   "outputs": [
    {
     "name": "stdout",
     "output_type": "stream",
     "text": [
      "Our array is:\n",
      "[[1 2 3]\n",
      " [3 4 5]\n",
      " [4 5 6]]\n",
      "\n",
      "\n",
      "Applying mean() function:\n",
      "3.6666666666666665\n",
      "\n",
      "\n",
      "Applying mean() function along axis 0:\n",
      "[2.66666667 3.66666667 4.66666667]\n",
      "\n",
      "\n",
      "Applying mean() function along axis 1:\n",
      "[2. 4. 5.]\n"
     ]
    }
   ],
   "source": [
    "import numpy as np \n",
    "a = np.array([[1,2,3],[3,4,5],[4,5,6]]) \n",
    "\n",
    "print ('Our array is:') \n",
    "print( a) \n",
    "print ('\\n')  \n",
    "\n",
    "print ('Applying mean() function:') \n",
    "print (np.mean(a) )\n",
    "print ('\\n')  \n",
    "\n",
    "print ('Applying mean() function along axis 0:' )\n",
    "print (np.mean(a, axis = 0)) \n",
    "print ('\\n')  \n",
    "\n",
    "print ('Applying mean() function along axis 1:') \n",
    "print (np.mean(a, axis = 1))"
   ]
  },
  {
   "cell_type": "markdown",
   "id": "7a08b7da",
   "metadata": {},
   "source": [
    "<h2><font style=\"vertical-align: inherit;\"><font style=\"vertical-align: inherit;\">numpy.average()</font></font></h2>\n",
    "<p><font style=\"vertical-align: inherit;\"><font style=\"vertical-align: inherit;\">La moyenne pondérée est une moyenne résultant de la multiplication de chaque composante par un facteur reflétant son importance. </font><font style=\"vertical-align: inherit;\">La fonction </font></font><b><font style=\"vertical-align: inherit;\"><font style=\"vertical-align: inherit;\">numpy.average()</font></font></b><font style=\"vertical-align: inherit;\"><font style=\"vertical-align: inherit;\"> calcule la moyenne pondérée des éléments d'un tableau en fonction de leur poids respectif donné dans un autre tableau. </font><font style=\"vertical-align: inherit;\">La fonction peut avoir un paramètre d'axe. </font><font style=\"vertical-align: inherit;\">Si l'axe n'est pas spécifié, le tableau est aplati.</font></font></p>\n",
    "<p><font style=\"vertical-align: inherit;\"><font style=\"vertical-align: inherit;\">En considérant un tableau [1,2,3,4] et les poids correspondants [4,3,2,1], la moyenne pondérée est calculée en additionnant le produit des éléments correspondants et en divisant la somme par la somme des poids.</font></font></p>\n",
    "<p><font style=\"vertical-align: inherit;\"><font style=\"vertical-align: inherit;\">Moyenne pondérée = (1*4+2*3+3*2+4*1)/(4+3+2+1)</font></font></p>\n",
    "<h3><font style=\"vertical-align: inherit;\"><font style=\"vertical-align: inherit;\">Exemple</font></font></h3>"
   ]
  },
  {
   "cell_type": "code",
   "execution_count": 216,
   "id": "7d096fdd",
   "metadata": {},
   "outputs": [
    {
     "name": "stdout",
     "output_type": "stream",
     "text": [
      "Our array is:\n",
      "[1 2 3 4]\n",
      "\n",
      "\n",
      "Applying average() function:\n",
      "2.5\n",
      "\n",
      "\n",
      "Applying average() function again:\n",
      "2.0\n",
      "\n",
      "\n",
      "Sum of weights\n",
      "(2.0, 10.0)\n"
     ]
    }
   ],
   "source": [
    "import numpy as np \n",
    "a = np.array([1,2,3,4]) \n",
    "\n",
    "print ('Our array is:') \n",
    "print( a) \n",
    "print ('\\n')  \n",
    "\n",
    "print ('Applying average() function:') \n",
    "print (np.average(a)) \n",
    "print ('\\n')  \n",
    "\n",
    "# this is same as mean when weight is not specified \n",
    "wts = np.array([4,3,2,1]) \n",
    "\n",
    "print ('Applying average() function again:') \n",
    "print (np.average(a,weights = wts) )\n",
    "print( '\\n')  \n",
    "\n",
    "# Returns the sum of weights, if the returned parameter is set to True. \n",
    "print ('Sum of weights') \n",
    "print (np.average([1,2,3, 4],weights = [4,3,2,1], returned = True))"
   ]
  },
  {
   "cell_type": "markdown",
   "id": "93ed4deb",
   "metadata": {},
   "source": [
    "<p><font style=\"vertical-align: inherit;\"><font style=\"vertical-align: inherit;\">Dans un tableau multidimensionnel, l'axe de calcul peut être spécifié.</font></font></p>\n",
    "<h3><font style=\"vertical-align: inherit;\"><font style=\"vertical-align: inherit;\">Exemple</font></font></h3>\n"
   ]
  },
  {
   "cell_type": "code",
   "execution_count": 217,
   "id": "e28d4163",
   "metadata": {},
   "outputs": [
    {
     "name": "stdout",
     "output_type": "stream",
     "text": [
      "Our array is:\n",
      "[[0 1]\n",
      " [2 3]\n",
      " [4 5]]\n",
      "\n",
      "\n",
      "Modified array:\n",
      "[0.625 2.625 4.625]\n",
      "\n",
      "\n",
      "Modified array:\n",
      "(array([0.625, 2.625, 4.625]), array([8., 8., 8.]))\n"
     ]
    }
   ],
   "source": [
    "import numpy as np \n",
    "a = np.arange(6).reshape(3,2) \n",
    "\n",
    "print ('Our array is:') \n",
    "print( a )\n",
    "print ('\\n')  \n",
    "\n",
    "print ('Modified array:') \n",
    "wt = np.array([3,5]) \n",
    "print (np.average(a, axis = 1, weights = wt)) \n",
    "print ('\\n')  \n",
    "\n",
    "print ('Modified array:') \n",
    "print (np.average(a, axis = 1, weights = wt, returned = True))"
   ]
  },
  {
   "cell_type": "markdown",
   "id": "6e95cde2",
   "metadata": {},
   "source": [
    "<h2><font style=\"vertical-align: inherit;\"><font style=\"vertical-align: inherit;\">Écart-type</font></font></h2>\n",
    "<p><font style=\"vertical-align: inherit;\"><font style=\"vertical-align: inherit;\">L'écart type est la racine carrée de la moyenne des écarts carrés par rapport à la moyenne. </font><font style=\"vertical-align: inherit;\">La formule de l'écart type est la suivante&nbsp;:</font></font></p>\n",
    "<pre class=\"result notranslate\">std = sqrt(mean(abs(x - x.mean())**2))\n",
    "</pre>\n",
    "<p><font style=\"vertical-align: inherit;\"><font style=\"vertical-align: inherit;\">Si le tableau est [1, 2, 3, 4], alors sa moyenne est de 2,5. </font><font style=\"vertical-align: inherit;\">Par conséquent, les écarts au carré sont [2,25, 0,25, 0,25, 2,25] et la racine carrée de sa moyenne divisée par 4, c'est-à-dire que sqrt (5/4) est 1.1180339887498949.</font></font></p>\n",
    "<h3><font style=\"vertical-align: inherit;\"><font style=\"vertical-align: inherit;\">Exemple</font></font></h3>"
   ]
  },
  {
   "cell_type": "code",
   "execution_count": 218,
   "id": "25675a55",
   "metadata": {},
   "outputs": [
    {
     "name": "stdout",
     "output_type": "stream",
     "text": [
      "1.118033988749895\n"
     ]
    }
   ],
   "source": [
    "import numpy as np \n",
    "print (np.std([1,2,3,4]))"
   ]
  },
  {
   "cell_type": "markdown",
   "id": "1f10dd9f",
   "metadata": {},
   "source": [
    "<h2>Variance</h2>\n",
    "<p>La variance est la moyenne des écarts au carré, c'est-à-dire <b>mean(abs(x - x.mean())**2)</b>. En d'autres termes, l'écart-type est la racine carrée de la variance.</p>\n",
    "<h3>Example</h3>"
   ]
  },
  {
   "cell_type": "code",
   "execution_count": 219,
   "id": "5e6500d4",
   "metadata": {},
   "outputs": [
    {
     "name": "stdout",
     "output_type": "stream",
     "text": [
      "1.25\n"
     ]
    }
   ],
   "source": [
    "import numpy as np \n",
    "print (np.var([1,2,3,4]))"
   ]
  },
  {
   "cell_type": "markdown",
   "id": "368ecb7a",
   "metadata": {},
   "source": [
    "<h1><font style=\"vertical-align: inherit;\"><font style=\"vertical-align: inherit;\">NumPy - Fonctions de tri, de recherche et de comptage</font></font></h1>\n",
    "<p>Une variété de fonctions liées au tri sont disponibles dans NumPy. Ces fonctions de tri mettent en œuvre différents algorithmes de tri, chacun d'entre eux étant caractérisé par la vitesse d'exécution, les performances dans le pire des cas, l'espace de travail requis et la stabilité des algorithmes. Le tableau suivant présente la comparaison de trois algorithmes de tri.</p>\n",
    "<table style=\"text-align:center\" class=\"table table-bordered\">\n",
    "<tr>\n",
    "<th style=\"text-align:center;\">kind</th>\n",
    "<th style=\"text-align:center;\">speed</th>\n",
    "<th style=\"text-align:center;\">worst case</th>\n",
    "<th style=\"text-align:center;\">work space</th>\n",
    "<th style=\"text-align:center;\">stable</th>\n",
    "</tr>\n",
    "<tr>\n",
    "<td>‘quicksort’</td>\n",
    "<td>1</td>\n",
    "<td>O(n^2)</td>\n",
    "<td>0</td>\n",
    "<td>no</td>\n",
    "</tr>\n",
    "<tr>\n",
    "<td>‘mergesort’</td>\n",
    "<td>2</td>\n",
    "<td>O(n*log(n))</td>\n",
    "<td>~n/2</td>\n",
    "<td>yes</td>\n",
    "</tr>\n",
    "<tr>\n",
    "<td>‘heapsort’</td>\n",
    "<td>3</td>\n",
    "<td>O(n*log(n))</td>\n",
    "<td>0</td>\n",
    "<td>no</td>\n",
    "</tr>\n",
    "</table>\n",
    "<h2>numpy.sort()</h2>\n",
    "<p>La fonction sort() renvoie une copie triée du tableau d'entrée. Elle possède les paramètres suivants &minus;</p>\n",
    "<pre class=\"result notranslate\">\n",
    "numpy.sort(a, axis, kind, order)\n",
    "</pre>\n",
    "<p>Where,</p>\n",
    "<table class=\"table table-bordered\">\n",
    "<tr>\n",
    "<th style=\"text-align:center;\">Sr.No.</th>\n",
    "<th style=\"text-align:center;\">Parameter &amp; Description</th>\n",
    "</tr>\n",
    "<tr>\n",
    "<td class=\"ts\">1</td>\n",
    "<td><p><b>a</b></p>\n",
    "<p>Array to be sorted</p>\n",
    "</td>\n",
    "</tr>\n",
    "<tr>\n",
    "<td class=\"ts\">2</td>\n",
    "<td><p><b>axis</b></p>\n",
    "<p>The axis along which the array is to be sorted. If none, the array is flattened, sorting on the last axis</p>\n",
    "</td>\n",
    "</tr>\n",
    "<tr>\n",
    "<td class=\"ts\">3</td>\n",
    "<td><p><b>kind</b></p>\n",
    "<p>Default is quicksort</p>\n",
    "</td>\n",
    "</tr>\n",
    "<tr>\n",
    "<td class=\"ts\">4</td>\n",
    "<td><p><b>order</b></p>\n",
    "<p>If the array contains fields, the order of fields to be sorted</p>\n",
    "</td>\n",
    "</tr>\n",
    "</table>\n",
    "<h3>Exemple</h3>"
   ]
  },
  {
   "cell_type": "code",
   "execution_count": 220,
   "id": "1bbb7cc2",
   "metadata": {},
   "outputs": [
    {
     "name": "stdout",
     "output_type": "stream",
     "text": [
      "Our array is:\n",
      "[[3 7]\n",
      " [9 1]]\n",
      "\n",
      "\n",
      "Applying sort() function:\n",
      "[[3 7]\n",
      " [1 9]]\n",
      "\n",
      "\n",
      "Sort along axis 0:\n",
      "[[3 1]\n",
      " [9 7]]\n",
      "\n",
      "\n",
      "Our array is:\n",
      "[(b'raju', 21) (b'anil', 25) (b'ravi', 17) (b'amar', 27)]\n",
      "\n",
      "\n",
      "Order by name:\n",
      "[(b'amar', 27) (b'anil', 25) (b'raju', 21) (b'ravi', 17)]\n"
     ]
    }
   ],
   "source": [
    "import numpy as np  \n",
    "a = np.array([[3,7],[9,1]]) \n",
    "\n",
    "print ('Our array is:' )\n",
    "print (a )\n",
    "print ('\\n')\n",
    "\n",
    "print ('Applying sort() function:') \n",
    "print (np.sort(a)) \n",
    "print ('\\n')\n",
    "  \n",
    "print ('Sort along axis 0:' )\n",
    "print (np.sort(a, axis = 0)) \n",
    "print ('\\n' ) \n",
    "\n",
    "# Order parameter in sort function \n",
    "dt = np.dtype([('name', 'S10'),('age', int)]) \n",
    "a = np.array([(\"raju\",21),(\"anil\",25),(\"ravi\", 17), (\"amar\",27)], dtype = dt) \n",
    "\n",
    "print ('Our array is:') \n",
    "print (a) \n",
    "print ('\\n' ) \n",
    "\n",
    "print ('Order by name:') \n",
    "print (np.sort(a, order = 'name'))"
   ]
  },
  {
   "cell_type": "markdown",
   "id": "536fff3f",
   "metadata": {},
   "source": [
    "\n",
    "<h2>numpy.argsort()</h2>\n",
    "\n",
    "<p>La fonction numpy.argsort() effectue un tri indirect sur le tableau d'entrée, le long de l'axe donné et en utilisant un type de tri spécifié pour renvoyer le tableau d'indices de données. Ce tableau d'indices est utilisé pour construire le tableau trié.<p/>\n",
    "<h3>Exemple</h3>"
   ]
  },
  {
   "cell_type": "code",
   "execution_count": 221,
   "id": "853ae4d3",
   "metadata": {},
   "outputs": [
    {
     "name": "stdout",
     "output_type": "stream",
     "text": [
      "Our array is:\n",
      "[3 1 2]\n",
      "\n",
      "\n",
      "Applying argsort() to x:\n",
      "[1 2 0]\n",
      "\n",
      "\n",
      "Reconstruct original array in sorted order:\n",
      "[1 2 3]\n",
      "\n",
      "\n",
      "Reconstruct the original array using loop:\n",
      "1\n",
      "2\n",
      "3\n"
     ]
    }
   ],
   "source": [
    "import numpy as np \n",
    "x = np.array([3, 1, 2]) \n",
    "\n",
    "print ('Our array is:') \n",
    "print( x) \n",
    "print ('\\n')  \n",
    "\n",
    "print ('Applying argsort() to x:') \n",
    "y =( np.argsort(x)) \n",
    "print( y) \n",
    "print ('\\n' ) \n",
    "\n",
    "print ('Reconstruct original array in sorted order:') \n",
    "print( x[y]) \n",
    "print ('\\n')  \n",
    "\n",
    "print ('Reconstruct the original array using loop:') \n",
    "for i in y: \n",
    "    print(x[i])"
   ]
  },
  {
   "cell_type": "markdown",
   "id": "b8661f7e",
   "metadata": {},
   "source": [
    "<h2>numpy.lexsort()</h2>\n",
    "\n",
    "<p>La fonction effectue un tri indirect à l'aide d'une séquence de touches. Les clés peuvent être vues comme une colonne dans une feuille de calcul. La fonction renvoie un tableau d'indices, à l'aide duquel les données triées peuvent être obtenues. Notez que la dernière clé se trouve être la clé primaire du tri.<p/>\n",
    "<h3>Exemple</h3>"
   ]
  },
  {
   "cell_type": "code",
   "execution_count": 222,
   "id": "9b4ec63a",
   "metadata": {},
   "outputs": [
    {
     "name": "stdout",
     "output_type": "stream",
     "text": [
      "Applying lexsort() function:\n",
      "[3 1 0 2]\n",
      "\n",
      "\n",
      "Use this index to get sorted data:\n",
      "['amar, f.y.', 'anil, s.y.', 'raju, f.y.', 'ravi, s.y.']\n"
     ]
    }
   ],
   "source": [
    "import numpy as np \n",
    "\n",
    "nm = ('raju','anil','ravi','amar') \n",
    "dv = ('f.y.', 's.y.', 's.y.', 'f.y.') \n",
    "ind = np.lexsort((dv,nm)) \n",
    "\n",
    "print ('Applying lexsort() function:') \n",
    "print (ind) \n",
    "print ('\\n')  \n",
    "\n",
    "print ('Use this index to get sorted data:') \n",
    "print ([nm[i] + \", \" + dv[i] for i in ind] )"
   ]
  },
  {
   "cell_type": "markdown",
   "id": "f25538a1",
   "metadata": {},
   "source": [
    "<p>Le module NumPy a un certain nombre de fonctions pour rechercher à l'intérieur d'un tableau. Des fonctions pour trouver le maximum, le minimum ainsi que les éléments satisfaisant une condition donnée sont disponibles.</p>\n",
    "\n",
    "<h2>numpy.argmax() et numpy.argmin()</h2>\n",
    "\n",
    "<p>Ces deux fonctions renvoient les indices des éléments maximum et minimum respectivement le long de l'axe donné.<p/>\n",
    "<h3>Exemple</h3>"
   ]
  },
  {
   "cell_type": "code",
   "execution_count": 223,
   "id": "5580ec09",
   "metadata": {},
   "outputs": [
    {
     "name": "stdout",
     "output_type": "stream",
     "text": [
      "Our array is:\n",
      "[[30 40 70]\n",
      " [80 20 10]\n",
      " [50 90 60]]\n",
      "\n",
      "\n",
      "Applying argmax() function:\n",
      "7\n",
      "\n",
      "\n",
      "Index of maximum number in flattened array\n",
      "[30 40 70 80 20 10 50 90 60]\n",
      "\n",
      "\n",
      "Array containing indices of maximum along axis 0:\n",
      "[1 2 0]\n",
      "\n",
      "\n",
      "Array containing indices of maximum along axis 1:\n",
      "[2 0 1]\n",
      "\n",
      "\n",
      "Applying argmin() function:\n",
      "5\n",
      "\n",
      "\n",
      "Flattened array:\n",
      "10\n",
      "\n",
      "\n",
      "Flattened array along axis 0:\n",
      "[0 1 1]\n",
      "\n",
      "\n",
      "Flattened array along axis 1:\n",
      "[0 2 0]\n"
     ]
    }
   ],
   "source": [
    "import numpy as np \n",
    "a = np.array([[30,40,70],[80,20,10],[50,90,60]]) \n",
    "\n",
    "print( 'Our array is:') \n",
    "print (a) \n",
    "print ('\\n' )\n",
    "\n",
    "print ('Applying argmax() function:' )\n",
    "print (np.argmax(a) )\n",
    "print ('\\n')  \n",
    "\n",
    "print ('Index of maximum number in flattened array') \n",
    "print (a.flatten()) \n",
    "print ('\\n'  )\n",
    "\n",
    "print ('Array containing indices of maximum along axis 0:') \n",
    "maxindex = np.argmax(a, axis = 0) \n",
    "print( maxindex) \n",
    "print ('\\n')  \n",
    "\n",
    "print ('Array containing indices of maximum along axis 1:') \n",
    "maxindex = np.argmax(a, axis = 1) \n",
    "print (maxindex )\n",
    "print ('\\n')  \n",
    "\n",
    "print ('Applying argmin() function:') \n",
    "minindex = np.argmin(a) \n",
    "print (minindex )\n",
    "print ('\\n' ) \n",
    "   \n",
    "print ('Flattened array:' )\n",
    "print (a.flatten()[minindex]) \n",
    "print ('\\n')  \n",
    "\n",
    "print ('Flattened array along axis 0:') \n",
    "minindex = np.argmin(a, axis = 0) \n",
    "print (minindex)\n",
    "print ('\\n')\n",
    "\n",
    "print ('Flattened array along axis 1:') \n",
    "minindex = np.argmin(a, axis = 1) \n",
    "print (minindex)"
   ]
  },
  {
   "cell_type": "markdown",
   "id": "a7013a2c",
   "metadata": {},
   "source": [
    "### numpy.nonzero()\n",
    "La fonction numpy.nonzero() renvoie les indices des éléments non nuls dans le tableau d'entrée.\n",
    "\n"
   ]
  },
  {
   "cell_type": "code",
   "execution_count": 224,
   "id": "441c7d2d",
   "metadata": {},
   "outputs": [
    {
     "name": "stdout",
     "output_type": "stream",
     "text": [
      "Our array is:\n",
      "[[30 40  0]\n",
      " [ 0 20 10]\n",
      " [50  0 60]]\n",
      "\n",
      "\n",
      "Applying nonzero() function:\n",
      "(array([0, 0, 1, 1, 2, 2]), array([0, 1, 1, 2, 0, 2]))\n"
     ]
    }
   ],
   "source": [
    "import numpy as np \n",
    "a = np.array([[30,40,0],[0,20,10],[50,0,60]]) \n",
    "\n",
    "print ('Our array is:') \n",
    "print( a )\n",
    "print( '\\n')  \n",
    "\n",
    "print ('Applying nonzero() function:' )\n",
    "print (np.nonzero (a))"
   ]
  },
  {
   "cell_type": "markdown",
   "id": "b24addd4",
   "metadata": {},
   "source": [
    "### numpy.where()\n",
    "La fonction where() renvoie les indices des éléments dans un tableau d'entrée où la condition donnée est satisfaite.\n",
    "\n",
    "#### Exemple"
   ]
  },
  {
   "cell_type": "code",
   "execution_count": 225,
   "id": "aea829fe",
   "metadata": {},
   "outputs": [
    {
     "name": "stdout",
     "output_type": "stream",
     "text": [
      "Our array is:\n",
      "[[0. 1. 2.]\n",
      " [3. 4. 5.]\n",
      " [6. 7. 8.]]\n",
      "Indices of elements > 3\n",
      "(array([1, 1, 2, 2, 2]), array([1, 2, 0, 1, 2]))\n",
      "Use these indices to get elements satisfying the condition\n",
      "[4. 5. 6. 7. 8.]\n"
     ]
    }
   ],
   "source": [
    "import numpy as np \n",
    "x = np.arange(9.).reshape(3, 3) \n",
    "\n",
    "print( 'Our array is:' )\n",
    "print (x  )\n",
    "\n",
    "print ('Indices of elements > 3' )\n",
    "y = (np.where(x > 3) )\n",
    "print( y ) \n",
    "\n",
    "print ('Use these indices to get elements satisfying the condition') \n",
    "print( x[y])"
   ]
  },
  {
   "cell_type": "markdown",
   "id": "4e5c0f2f",
   "metadata": {},
   "source": [
    "### numpy.extract()\n",
    "La fonction extract() renvoie les éléments satisfaisant à n'importe quelle condition."
   ]
  },
  {
   "cell_type": "code",
   "execution_count": 226,
   "id": "240cd675",
   "metadata": {},
   "outputs": [
    {
     "name": "stdout",
     "output_type": "stream",
     "text": [
      "Our array is:\n",
      "[[0. 1. 2.]\n",
      " [3. 4. 5.]\n",
      " [6. 7. 8.]]\n",
      "Element-wise value of condition\n",
      "[[ True False  True]\n",
      " [False  True False]\n",
      " [ True False  True]]\n",
      "Extract elements using condition\n",
      "[0. 2. 4. 6. 8.]\n"
     ]
    }
   ],
   "source": [
    "import numpy as np \n",
    "x = np.arange(9.).reshape(3, 3) \n",
    "\n",
    "print ('Our array is:') \n",
    "print( x ) \n",
    "\n",
    "# define a condition \n",
    "condition = np.mod(x,2) == 0 \n",
    "\n",
    "print ('Element-wise value of condition' )\n",
    "print( condition  )\n",
    "\n",
    "print ('Extract elements using condition' )\n",
    "print (np.extract(condition, x))"
   ]
  },
  {
   "cell_type": "markdown",
   "id": "7ff8e8af",
   "metadata": {},
   "source": [
    "## NumPy - Bibliothèque de matrices\n",
    "Le package NumPy contient une bibliothèque Matrix numpy.matlib . Ce module a des fonctions qui renvoient des matrices au lieu d'objets ndarray.\n",
    "\n",
    "### matlib.vide()\n",
    "La fonction matlib.empty() renvoie une nouvelle matrice sans initialiser les entrées. La fonction prend les paramètres suivants."
   ]
  },
  {
   "cell_type": "code",
   "execution_count": null,
   "id": "1b6a1092",
   "metadata": {},
   "outputs": [],
   "source": [
    "numpy.matlib.empty(shape, dtype, order)"
   ]
  },
  {
   "cell_type": "markdown",
   "id": "7a059a08",
   "metadata": {},
   "source": [
    "<table class=\"table table-bordered\">\n",
    "<tbody><tr>\n",
    "<th style=\"text-align:center; width:10%;\"><font style=\"vertical-align: inherit;\"><font style=\"vertical-align: inherit;\">Sr.No.</font></font></th>\n",
    "<th style=\"text-align:center;\"><font style=\"vertical-align: inherit;\"><font style=\"vertical-align: inherit;\">Paramètre et description</font></font></th>\n",
    "</tr>\n",
    "<tr>\n",
    "<td class=\"ts\"><font style=\"vertical-align: inherit;\"><font style=\"vertical-align: inherit;\">1</font></font></td>\n",
    "<td><p><b><font style=\"vertical-align: inherit;\"><font style=\"vertical-align: inherit;\">façonner</font></font></b></p>\n",
    "<p><b><font style=\"vertical-align: inherit;\"><font style=\"vertical-align: inherit;\">int</font></font></b><font style=\"vertical-align: inherit;\"><font style=\"vertical-align: inherit;\"> ou tuple de </font></font><b><font style=\"vertical-align: inherit;\"><font style=\"vertical-align: inherit;\">int</font></font></b><font style=\"vertical-align: inherit;\"><font style=\"vertical-align: inherit;\"> définissant la forme de la nouvelle matrice</font></font></p>\n",
    "</td>\n",
    "</tr>\n",
    "<tr>\n",
    "<td class=\"ts\"><font style=\"vertical-align: inherit;\"><font style=\"vertical-align: inherit;\">2</font></font></td>\n",
    "<td><p><b><font style=\"vertical-align: inherit;\"><font style=\"vertical-align: inherit;\">TypeD</font></font></b></p>\n",
    "<p><font style=\"vertical-align: inherit;\"><font style=\"vertical-align: inherit;\">Optionnel. </font><font style=\"vertical-align: inherit;\">Type de données de la sortie</font></font></p>\n",
    "</td>\n",
    "</tr>\n",
    "<tr>\n",
    "<td class=\"ts\"><font style=\"vertical-align: inherit;\"><font style=\"vertical-align: inherit;\">3</font></font></td>\n",
    "<td><p><b><font style=\"vertical-align: inherit;\"><font style=\"vertical-align: inherit;\">ordre</font></font></b></p>\n",
    "<p><font style=\"vertical-align: inherit;\"><font style=\"vertical-align: inherit;\">C ou F</font></font></p>\n",
    "</td>\n",
    "</tr>\n",
    "</tbody></table>\n",
    "\n",
    "#### Exemple"
   ]
  },
  {
   "cell_type": "code",
   "execution_count": null,
   "id": "8df3433f",
   "metadata": {},
   "outputs": [],
   "source": [
    "import numpy.matlib \n",
    "import numpy as np \n",
    "\n",
    "print (np.matlib.empty((2,2)) )\n",
    "# filled with random data"
   ]
  },
  {
   "cell_type": "markdown",
   "id": "010b124a",
   "metadata": {},
   "source": [
    "### numpy.matlib.zeros() et numpy.matlib.ones()\n",
    "Chacune de ces fonctions renvoie la matrice remplie respectivement de zéros ou de uns.\n",
    "\n",
    "#### Exemple"
   ]
  },
  {
   "cell_type": "code",
   "execution_count": null,
   "id": "22ac9189",
   "metadata": {},
   "outputs": [],
   "source": [
    "import numpy.matlib \n",
    "import numpy as np \n",
    "print (np.matlib.zeros((2,2))) \n",
    "print (np.matlib.ones((2,2)))"
   ]
  },
  {
   "cell_type": "markdown",
   "id": "a5b5ed40",
   "metadata": {},
   "source": [
    "### numpy.matlib.eye()\n",
    "Cette fonction renvoie une matrice avec 1 le long des éléments diagonaux et les zéros ailleurs. La fonction prend les paramètres suivants."
   ]
  },
  {
   "cell_type": "code",
   "execution_count": null,
   "id": "13c7b77c",
   "metadata": {},
   "outputs": [],
   "source": [
    "numpy.matlib.eye(n, M,k, dtype)"
   ]
  },
  {
   "cell_type": "markdown",
   "id": "15465f91",
   "metadata": {},
   "source": [
    "Où,\n",
    "<table class=\"table table-bordered\">\n",
    "<tbody><tr>\n",
    "<th style=\"text-align:center; width:10%;\"><font style=\"vertical-align: inherit;\"><font style=\"vertical-align: inherit;\">Sr.No.</font></font></th>\n",
    "<th style=\"text-align:center;\"><font style=\"vertical-align: inherit;\"><font style=\"vertical-align: inherit;\">Paramètre et description</font></font></th>\n",
    "</tr>\n",
    "<tr>\n",
    "<td class=\"ts\"><font style=\"vertical-align: inherit;\"><font style=\"vertical-align: inherit;\">1</font></font></td>\n",
    "<td><p><b><font style=\"vertical-align: inherit;\"><font style=\"vertical-align: inherit;\">m</font></font></b></p>\n",
    "<p><font style=\"vertical-align: inherit;\"><font style=\"vertical-align: inherit;\">Le nombre de lignes dans la matrice résultante</font></font></p>\n",
    "</td>\n",
    "</tr>\n",
    "<tr>\n",
    "<td class=\"ts\"><font style=\"vertical-align: inherit;\"><font style=\"vertical-align: inherit;\">2</font></font></td>\n",
    "<td><p><b><font style=\"vertical-align: inherit;\"><font style=\"vertical-align: inherit;\">M</font></font></b></p>\n",
    "<p><font style=\"vertical-align: inherit;\"><font style=\"vertical-align: inherit;\">Le nombre de colonnes, par défaut à n</font></font></p>\n",
    "</td>\n",
    "</tr>\n",
    "<tr>\n",
    "<td class=\"ts\"><font style=\"vertical-align: inherit;\"><font style=\"vertical-align: inherit;\">3</font></font></td>\n",
    "<td><p><b><font style=\"vertical-align: inherit;\"><font style=\"vertical-align: inherit;\">k</font></font></b></p>\n",
    "<p><font style=\"vertical-align: inherit;\"><font style=\"vertical-align: inherit;\">Indice de diagonale</font></font></p>\n",
    "</td>\n",
    "</tr>\n",
    "<tr>\n",
    "<td class=\"ts\"><font style=\"vertical-align: inherit;\"><font style=\"vertical-align: inherit;\">4</font></font></td>\n",
    "<td><p><b><font style=\"vertical-align: inherit;\"><font style=\"vertical-align: inherit;\">dtype</font></font></b></p>\n",
    "<p><font style=\"vertical-align: inherit;\"><font style=\"vertical-align: inherit;\">Type de données de la sortie</font></font></p>\n",
    "</td>\n",
    "</tr>\n",
    "</tbody></table>\n",
    "\n",
    "#### Exemple"
   ]
  },
  {
   "cell_type": "code",
   "execution_count": null,
   "id": "af257f10",
   "metadata": {},
   "outputs": [],
   "source": [
    "import numpy.matlib \n",
    "import numpy as np \n",
    "print (np.matlib.eye(n = 3, M = 4, k = 0, dtype = float))"
   ]
  },
  {
   "cell_type": "markdown",
   "id": "55bb0176",
   "metadata": {},
   "source": [
    "### numpy.matlib.identity()\n",
    "La fonction numpy.matlib.identity() renvoie la matrice Identity de la taille donnée. Une matrice identité est une matrice carrée avec tous les éléments diagonaux à 1."
   ]
  },
  {
   "cell_type": "code",
   "execution_count": null,
   "id": "e1fe4882",
   "metadata": {},
   "outputs": [],
   "source": [
    "import numpy.matlib \n",
    "import numpy as np \n",
    "print (np.matlib.identity(5, dtype = float))"
   ]
  },
  {
   "cell_type": "markdown",
   "id": "2a6b847a",
   "metadata": {},
   "source": [
    "### numpy.matlib.rand()\n",
    "La fonction numpy.matlib.rand() renvoie une matrice de la taille donnée remplie de valeurs aléatoires.\n",
    "\n",
    "#### Exemple"
   ]
  },
  {
   "cell_type": "code",
   "execution_count": null,
   "id": "25dbd60a",
   "metadata": {},
   "outputs": [],
   "source": [
    "import numpy.matlib \n",
    "import numpy as np \n",
    "print (np.matlib.rand(3,3))"
   ]
  },
  {
   "cell_type": "code",
   "execution_count": null,
   "id": "98e26715",
   "metadata": {},
   "outputs": [],
   "source": [
    "#Notez qu'une matrice est toujours à deux dimensions, alors que ndarray est un tableau à n dimensions. Les deux objets sont inter-convertibles.\n",
    "\n",
    "import numpy.matlib \n",
    "import numpy as np  \n",
    "\n",
    "i = np.matrix('1,2;3,4') \n",
    "print( i, '\\n' )\n",
    "\n",
    "import numpy.matlib \n",
    "import numpy as np  \n",
    "\n",
    "j = np.asarray(i) \n",
    "print (j, '\\n') \n",
    "\n",
    "import numpy.matlib \n",
    "import numpy as np  \n",
    "\n",
    "k = np.asmatrix (j) \n",
    "print (k, '\\n')"
   ]
  },
  {
   "cell_type": "markdown",
   "id": "c0b6527a",
   "metadata": {},
   "source": [
    "## NumPy - Algèbre linéaire\n",
    "Le package NumPy contient le module numpy.linalg qui fournit toutes les fonctionnalités requises pour l'algèbre linéaire. Certaines des fonctions importantes de ce module sont décrites dans le tableau suivant.\n",
    "\n",
    "<table class=\"table table-bordered\">\n",
    "<tbody><tr>\n",
    "<th style=\"text-align:center;width:10%\"><font style=\"vertical-align: inherit;\"><font style=\"vertical-align: inherit;\">Sr.No.</font></font></th>\n",
    "<th style=\"text-align:center;\"><font style=\"vertical-align: inherit;\"><font style=\"vertical-align: inherit;\">Description de la fonction</font></font></th>\n",
    "</tr>\n",
    "<tr>\n",
    "<td class=\"ts\"><font style=\"vertical-align: inherit;\"><font style=\"vertical-align: inherit;\">1</font></font></td>\n",
    "<td><a href=\"/numpy/numpy_dot.htm\"><font style=\"vertical-align: inherit;\"><font style=\"vertical-align: inherit;\">point</font></font></a>\n",
    "<p><font style=\"vertical-align: inherit;\"><font style=\"vertical-align: inherit;\">Produit scalaire des deux tableaux</font></font></p>\n",
    "</td>\n",
    "</tr>\n",
    "<tr>\n",
    "<td class=\"ts\"><font style=\"vertical-align: inherit;\"><font style=\"vertical-align: inherit;\">2</font></font></td>\n",
    "<td><a href=\"/numpy/numpy_vdot.htm\"><font style=\"vertical-align: inherit;\"><font style=\"vertical-align: inherit;\">vdot</font></font></a>\n",
    "<p><font style=\"vertical-align: inherit;\"><font style=\"vertical-align: inherit;\">Produit scalaire des deux vecteurs</font></font></p>\n",
    "</td>\n",
    "</tr>\n",
    "<tr>\n",
    "<td class=\"ts\"><font style=\"vertical-align: inherit;\"><font style=\"vertical-align: inherit;\">3</font></font></td>\n",
    "<td><a href=\"/numpy/numpy_inner.htm\"><font style=\"vertical-align: inherit;\"><font style=\"vertical-align: inherit;\">intérieur</font></font></a>\n",
    "<p><font style=\"vertical-align: inherit;\"><font style=\"vertical-align: inherit;\">Produit interne des deux tableaux</font></font></p>\n",
    "</td>\n",
    "</tr>\n",
    "<tr>\n",
    "<td class=\"ts\"><font style=\"vertical-align: inherit;\"><font style=\"vertical-align: inherit;\">4</font></font></td>\n",
    "<td><a href=\"/numpy/numpy_matmul.htm\"><font style=\"vertical-align: inherit;\"><font style=\"vertical-align: inherit;\">matmul</font></font></a>\n",
    "<p><font style=\"vertical-align: inherit;\"><font style=\"vertical-align: inherit;\">Produit matriciel des deux tableaux</font></font></p>\n",
    "</td>\n",
    "</tr>\n",
    "<tr>\n",
    "<td class=\"ts\"><font style=\"vertical-align: inherit;\"><font style=\"vertical-align: inherit;\">5</font></font></td>\n",
    "<td><a href=\"/numpy/numpy_determinant.htm\"><font style=\"vertical-align: inherit;\"><font style=\"vertical-align: inherit;\">déterminant</font></font></a>\n",
    "<p><font style=\"vertical-align: inherit;\"><font style=\"vertical-align: inherit;\">Calcule le déterminant du tableau</font></font></p>\n",
    "</td>\n",
    "</tr>\n",
    "<tr>\n",
    "<td class=\"ts\"><font style=\"vertical-align: inherit;\"><font style=\"vertical-align: inherit;\">6</font></font></td>\n",
    "<td><a href=\"/numpy/numpy_solve.htm\"><font style=\"vertical-align: inherit;\"><font style=\"vertical-align: inherit;\">résoudre</font></font></a>\n",
    "<p><font style=\"vertical-align: inherit;\"><font style=\"vertical-align: inherit;\">Résout l'équation de la matrice linéaire</font></font></p>\n",
    "</td>\n",
    "</tr>\n",
    "<tr>\n",
    "<td class=\"ts\"><font style=\"vertical-align: inherit;\"><font style=\"vertical-align: inherit;\">7</font></font></td>\n",
    "<td><a href=\"/numpy/numpy_inv.htm\"><font style=\"vertical-align: inherit;\"><font style=\"vertical-align: inherit;\">inv</font></font></a>\n",
    "<p><font style=\"vertical-align: inherit;\"><font style=\"vertical-align: inherit;\">Trouve l'inverse multiplicatif de la matrice</font></font></p>\n",
    "</td>\n",
    "</tr>\n",
    "</tbody></table>"
   ]
  },
  {
   "cell_type": "markdown",
   "id": "3ee913e2",
   "metadata": {},
   "source": [
    "## E/S avec NumPy\n",
    "Les objets ndarray peuvent être enregistrés et chargés à partir des fichiers du disque. Les fonctions IO disponibles sont -\n",
    "\n",
    "    - Les fonctions load() et save() gèrent les fichiers binaires /numPy (avec l' extension npy )\n",
    "\n",
    "    - Les fonctions loadtxt() et savetxt() gèrent les fichiers texte normaux\n",
    "\n",
    "NumPy introduit un format de fichier simple pour les objets ndarray. Ce fichier .npy stocke les données, la forme, le type et d'autres informations nécessaires pour reconstruire le ndarray dans un fichier disque de sorte que le tableau soit correctement récupéré même si le fichier se trouve sur une autre machine avec une architecture différente."
   ]
  },
  {
   "cell_type": "markdown",
   "id": "9e432157",
   "metadata": {},
   "source": [
    "###  numpy.save()\n",
    "Le fichier numpy.save() stocke le tableau d'entrée dans un fichier disque avec l'extension npy ."
   ]
  },
  {
   "cell_type": "code",
   "execution_count": null,
   "id": "f546cebb",
   "metadata": {},
   "outputs": [],
   "source": [
    "import numpy as np \n",
    "a = np.array([1,2,3,4,5]) \n",
    "np.save('outfile',a)\n",
    "\n",
    "# Pour reconstruire le tableau à partir de outfile.npy , utilisez la fonction load() .\n",
    "b = np.load('outfile.npy') \n",
    "print(b)"
   ]
  },
  {
   "cell_type": "markdown",
   "id": "96efcc34",
   "metadata": {},
   "source": [
    "Les fonctions save() et load() acceptent un paramètre booléen supplémentaire allow_pickles . Un pickle en Python est utilisé pour sérialiser et désérialiser des objets avant d'enregistrer ou de lire à partir d'un fichier disque.\n",
    "\n",
    "### savetxt()\n",
    "Le stockage et la récupération des données du tableau au format de fichier texte simple sont effectués avec les fonctions savetxt() et loadtxt() ."
   ]
  },
  {
   "cell_type": "code",
   "execution_count": null,
   "id": "a671b326",
   "metadata": {},
   "outputs": [],
   "source": [
    "# Exemple\n",
    "import numpy as np \n",
    "\n",
    "a = np.array([1,2,3,4,5]) \n",
    "np.savetxt('out.txt',a) \n",
    "b = np.loadtxt('out.txt') \n",
    "print( b) "
   ]
  },
  {
   "cell_type": "markdown",
   "id": "13939ba8",
   "metadata": {},
   "source": [
    "Les fonctions savetxt() et loadtxt() acceptent des paramètres facultatifs supplémentaires tels que l'en-tête, le pied de page et le délimiteur."
   ]
  },
  {
   "cell_type": "code",
   "execution_count": null,
   "id": "4f527147",
   "metadata": {},
   "outputs": [],
   "source": []
  }
 ],
 "metadata": {
  "kernelspec": {
   "display_name": "Python 3",
   "language": "python",
   "name": "python3"
  },
  "language_info": {
   "codemirror_mode": {
    "name": "ipython",
    "version": 3
   },
   "file_extension": ".py",
   "mimetype": "text/x-python",
   "name": "python",
   "nbconvert_exporter": "python",
   "pygments_lexer": "ipython3",
   "version": "3.8.8"
  }
 },
 "nbformat": 4,
 "nbformat_minor": 5
}
